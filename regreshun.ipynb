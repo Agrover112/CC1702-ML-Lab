{
 "cells": [
  {
   "cell_type": "markdown",
   "metadata": {},
   "source": [
    "importing library\n"
   ]
  },
  {
   "cell_type": "code",
   "execution_count": 1,
   "metadata": {
    "execution": {
     "iopub.execute_input": "2021-11-19T14:41:57.792104Z",
     "iopub.status.busy": "2021-11-19T14:41:57.790110Z",
     "iopub.status.idle": "2021-11-19T14:42:25.410919Z",
     "shell.execute_reply": "2021-11-19T14:42:25.410149Z",
     "shell.execute_reply.started": "2021-11-19T14:41:57.792041Z"
    }
   },
   "outputs": [
    {
     "name": "stdout",
     "output_type": "stream",
     "text": [
      "Collecting scikitlearn\r\n",
      "\u001b[33m  WARNING: Retrying (Retry(total=4, connect=None, read=None, redirect=None, status=None)) after connection broken by 'NewConnectionError('<pip._vendor.urllib3.connection.VerifiedHTTPSConnection object at 0x7fc914bb0e80>: Failed to establish a new connection: [Errno -3] Temporary failure in name resolution',)': /simple/scikitlearn/\u001b[0m\r\n",
      "\u001b[33m  WARNING: Retrying (Retry(total=3, connect=None, read=None, redirect=None, status=None)) after connection broken by 'NewConnectionError('<pip._vendor.urllib3.connection.VerifiedHTTPSConnection object at 0x7fc914bb09e8>: Failed to establish a new connection: [Errno -3] Temporary failure in name resolution',)': /simple/scikitlearn/\u001b[0m\r\n",
      "\u001b[33m  WARNING: Retrying (Retry(total=2, connect=None, read=None, redirect=None, status=None)) after connection broken by 'NewConnectionError('<pip._vendor.urllib3.connection.VerifiedHTTPSConnection object at 0x7fc914bb0908>: Failed to establish a new connection: [Errno -3] Temporary failure in name resolution',)': /simple/scikitlearn/\u001b[0m\r\n",
      "\u001b[33m  WARNING: Retrying (Retry(total=1, connect=None, read=None, redirect=None, status=None)) after connection broken by 'NewConnectionError('<pip._vendor.urllib3.connection.VerifiedHTTPSConnection object at 0x7fc914bb0b70>: Failed to establish a new connection: [Errno -3] Temporary failure in name resolution',)': /simple/scikitlearn/\u001b[0m\r\n",
      "\u001b[33m  WARNING: Retrying (Retry(total=0, connect=None, read=None, redirect=None, status=None)) after connection broken by 'NewConnectionError('<pip._vendor.urllib3.connection.VerifiedHTTPSConnection object at 0x7fc914bb04a8>: Failed to establish a new connection: [Errno -3] Temporary failure in name resolution',)': /simple/scikitlearn/\u001b[0m\r\n",
      "\u001b[31m  ERROR: Could not find a version that satisfies the requirement scikitlearn (from versions: none)\u001b[0m\r\n",
      "\u001b[31mERROR: No matching distribution found for scikitlearn\u001b[0m\r\n"
     ]
    }
   ],
   "source": [
    "!pip install scikitlearn"
   ]
  },
  {
   "cell_type": "code",
   "execution_count": 2,
   "metadata": {
    "_cell_guid": "b1076dfc-b9ad-4769-8c92-a6c4dae69d19",
    "_uuid": "8f2839f25d086af736a60e9eeb907d3b93b6e0e5",
    "execution": {
     "iopub.execute_input": "2021-11-19T14:42:43.174308Z",
     "iopub.status.busy": "2021-11-19T14:42:43.174024Z",
     "iopub.status.idle": "2021-11-19T14:42:43.179110Z",
     "shell.execute_reply": "2021-11-19T14:42:43.178266Z",
     "shell.execute_reply.started": "2021-11-19T14:42:43.174273Z"
    }
   },
   "outputs": [],
   "source": [
    "import numpy as np\n",
    "import matplotlib.pyplot as plt\n",
    "import pandas as pd\n",
    "from sklearn.metrics import accuracy_score\n",
    "from sklearn.linear_model import LinearRegression,LogisticRegression\n",
    "from sklearn.metrics import mean_squared_error\n",
    "from sklearn.model_selection import train_test_split\n",
    "import math"
   ]
  },
  {
   "cell_type": "code",
   "execution_count": 3,
   "metadata": {
    "execution": {
     "iopub.execute_input": "2021-11-19T14:42:29.956345Z",
     "iopub.status.busy": "2021-11-19T14:42:29.956065Z",
     "iopub.status.idle": "2021-11-19T14:42:29.968070Z",
     "shell.execute_reply": "2021-11-19T14:42:29.967012Z",
     "shell.execute_reply.started": "2021-11-19T14:42:29.956301Z"
    }
   },
   "outputs": [],
   "source": [
    "dataset = pd.read_csv('../input/Position_Salaries.csv')"
   ]
  },
  {
   "cell_type": "code",
   "execution_count": 4,
   "metadata": {
    "execution": {
     "iopub.execute_input": "2021-11-19T14:52:15.830336Z",
     "iopub.status.busy": "2021-11-19T14:52:15.829795Z",
     "iopub.status.idle": "2021-11-19T14:52:15.844424Z",
     "shell.execute_reply": "2021-11-19T14:52:15.843824Z",
     "shell.execute_reply.started": "2021-11-19T14:52:15.830287Z"
    }
   },
   "outputs": [
    {
     "data": {
      "text/html": [
       "<div>\n",
       "<style scoped>\n",
       "    .dataframe tbody tr th:only-of-type {\n",
       "        vertical-align: middle;\n",
       "    }\n",
       "\n",
       "    .dataframe tbody tr th {\n",
       "        vertical-align: top;\n",
       "    }\n",
       "\n",
       "    .dataframe thead th {\n",
       "        text-align: right;\n",
       "    }\n",
       "</style>\n",
       "<table border=\"1\" class=\"dataframe\">\n",
       "  <thead>\n",
       "    <tr style=\"text-align: right;\">\n",
       "      <th></th>\n",
       "      <th>Position</th>\n",
       "      <th>Level</th>\n",
       "      <th>Salary</th>\n",
       "    </tr>\n",
       "  </thead>\n",
       "  <tbody>\n",
       "    <tr>\n",
       "      <th>0</th>\n",
       "      <td>Business Analyst</td>\n",
       "      <td>1</td>\n",
       "      <td>45000</td>\n",
       "    </tr>\n",
       "    <tr>\n",
       "      <th>1</th>\n",
       "      <td>Junior Consultant</td>\n",
       "      <td>2</td>\n",
       "      <td>50000</td>\n",
       "    </tr>\n",
       "    <tr>\n",
       "      <th>2</th>\n",
       "      <td>Senior Consultant</td>\n",
       "      <td>3</td>\n",
       "      <td>60000</td>\n",
       "    </tr>\n",
       "    <tr>\n",
       "      <th>3</th>\n",
       "      <td>Manager</td>\n",
       "      <td>4</td>\n",
       "      <td>80000</td>\n",
       "    </tr>\n",
       "    <tr>\n",
       "      <th>4</th>\n",
       "      <td>Country Manager</td>\n",
       "      <td>5</td>\n",
       "      <td>110000</td>\n",
       "    </tr>\n",
       "    <tr>\n",
       "      <th>5</th>\n",
       "      <td>Region Manager</td>\n",
       "      <td>6</td>\n",
       "      <td>150000</td>\n",
       "    </tr>\n",
       "    <tr>\n",
       "      <th>6</th>\n",
       "      <td>Partner</td>\n",
       "      <td>7</td>\n",
       "      <td>200000</td>\n",
       "    </tr>\n",
       "    <tr>\n",
       "      <th>7</th>\n",
       "      <td>Senior Partner</td>\n",
       "      <td>8</td>\n",
       "      <td>300000</td>\n",
       "    </tr>\n",
       "    <tr>\n",
       "      <th>8</th>\n",
       "      <td>C-level</td>\n",
       "      <td>9</td>\n",
       "      <td>500000</td>\n",
       "    </tr>\n",
       "    <tr>\n",
       "      <th>9</th>\n",
       "      <td>CEO</td>\n",
       "      <td>10</td>\n",
       "      <td>1000000</td>\n",
       "    </tr>\n",
       "  </tbody>\n",
       "</table>\n",
       "</div>"
      ],
      "text/plain": [
       "            Position  Level   Salary\n",
       "0   Business Analyst      1    45000\n",
       "1  Junior Consultant      2    50000\n",
       "2  Senior Consultant      3    60000\n",
       "3            Manager      4    80000\n",
       "4    Country Manager      5   110000\n",
       "5     Region Manager      6   150000\n",
       "6            Partner      7   200000\n",
       "7     Senior Partner      8   300000\n",
       "8            C-level      9   500000\n",
       "9                CEO     10  1000000"
      ]
     },
     "execution_count": 4,
     "metadata": {},
     "output_type": "execute_result"
    }
   ],
   "source": [
    "dataset"
   ]
  },
  {
   "cell_type": "markdown",
   "metadata": {},
   "source": [
    "Following dataset consists of Postions and their respective Levels, and we can predict the salary which is our Y variable :D"
   ]
  },
  {
   "cell_type": "markdown",
   "metadata": {},
   "source": [
    "# Reading the data"
   ]
  },
  {
   "cell_type": "code",
   "execution_count": 5,
   "metadata": {
    "_cell_guid": "79c7e3d0-c299-4dcb-8224-4455121ee9b0",
    "_uuid": "d629ff2d2480ee46fbb7e2d37f6b5fab8052498a",
    "execution": {
     "iopub.execute_input": "2021-11-19T14:39:16.980436Z",
     "iopub.status.busy": "2021-11-19T14:39:16.980147Z",
     "iopub.status.idle": "2021-11-19T14:39:16.985060Z",
     "shell.execute_reply": "2021-11-19T14:39:16.984179Z",
     "shell.execute_reply.started": "2021-11-19T14:39:16.980393Z"
    }
   },
   "outputs": [],
   "source": [
    "\n",
    "X = dataset.iloc[:, 1:2].values # only need level and salary cause yes that's what we neeed\n",
    "y = dataset.iloc[:, 2].values"
   ]
  },
  {
   "cell_type": "markdown",
   "metadata": {},
   "source": [
    "# Split the data for testing purposes"
   ]
  },
  {
   "cell_type": "code",
   "execution_count": 6,
   "metadata": {
    "execution": {
     "iopub.execute_input": "2021-11-19T14:50:44.807081Z",
     "iopub.status.busy": "2021-11-19T14:50:44.806384Z",
     "iopub.status.idle": "2021-11-19T14:50:44.812715Z",
     "shell.execute_reply": "2021-11-19T14:50:44.811908Z",
     "shell.execute_reply.started": "2021-11-19T14:50:44.807003Z"
    }
   },
   "outputs": [],
   "source": [
    "\n",
    "X_train, X_test, y_train, y_test = train_test_split(X, y, test_size=0.2, random_state=42)\n"
   ]
  },
  {
   "cell_type": "code",
   "execution_count": 7,
   "metadata": {
    "execution": {
     "iopub.execute_input": "2021-11-19T14:50:45.414490Z",
     "iopub.status.busy": "2021-11-19T14:50:45.414062Z",
     "iopub.status.idle": "2021-11-19T14:50:45.422930Z",
     "shell.execute_reply": "2021-11-19T14:50:45.422146Z",
     "shell.execute_reply.started": "2021-11-19T14:50:45.414449Z"
    }
   },
   "outputs": [
    {
     "data": {
      "text/plain": [
       "88544.09867029039"
      ]
     },
     "execution_count": 7,
     "metadata": {},
     "output_type": "execute_result"
    }
   ],
   "source": [
    "lin_reg = LinearRegression()\n",
    "lin_reg.fit(X_train,y_train)\n",
    "y_pred=lin_reg.predict(X_test)\n",
    "\n",
    "rmse = math.sqrt(mean_squared_error(y_test,y_pred)) # False means ROOT is taken :D\n",
    "\n",
    "rmse\n"
   ]
  },
  {
   "cell_type": "code",
   "execution_count": 8,
   "metadata": {
    "execution": {
     "iopub.execute_input": "2021-11-19T14:50:45.602789Z",
     "iopub.status.busy": "2021-11-19T14:50:45.602477Z",
     "iopub.status.idle": "2021-11-19T14:50:45.856622Z",
     "shell.execute_reply": "2021-11-19T14:50:45.855633Z",
     "shell.execute_reply.started": "2021-11-19T14:50:45.602732Z"
    }
   },
   "outputs": [
    {
     "data": {
      "text/plain": [
       "[<matplotlib.lines.Line2D at 0x7f53e958f588>]"
      ]
     },
     "execution_count": 8,
     "metadata": {},
     "output_type": "execute_result"
    },
    {
     "data": {
      "image/png": "[encoded data removed]",
      "text/plain": [
       "<Figure size 432x288 with 1 Axes>"
      ]
     },
     "metadata": {
      "needs_background": "light"
     },
     "output_type": "display_data"
    }
   ],
   "source": [
    "plt.scatter(X_test, y_test, color = 'red')\n",
    "plt.plot(X_test, y_pred, color = 'blue')"
   ]
  },
  {
   "cell_type": "code",
   "execution_count": 9,
   "metadata": {
    "execution": {
     "iopub.execute_input": "2021-11-19T14:50:45.858981Z",
     "iopub.status.busy": "2021-11-19T14:50:45.858438Z",
     "iopub.status.idle": "2021-11-19T14:50:45.868120Z",
     "shell.execute_reply": "2021-11-19T14:50:45.867258Z",
     "shell.execute_reply.started": "2021-11-19T14:50:45.858922Z"
    }
   },
   "outputs": [],
   "source": [
    "from sklearn.preprocessing import PolynomialFeatures\n",
    "poly_reg = PolynomialFeatures(degree = 2)\n",
    "X_poly = poly_reg.fit_transform(X_train)\n",
    "poly_reg.fit(X_poly, y_train)\n",
    "lin_reg_2 = LinearRegression()\n",
    "lin_reg_2.fit(X_poly, y_train)\n",
    "y_pred=lin_reg_2.predict(poly_reg.fit_transform(X_test))"
   ]
  },
  {
   "cell_type": "code",
   "execution_count": 10,
   "metadata": {
    "execution": {
     "iopub.execute_input": "2021-11-19T14:50:45.870420Z",
     "iopub.status.busy": "2021-11-19T14:50:45.869905Z",
     "iopub.status.idle": "2021-11-19T14:50:45.881898Z",
     "shell.execute_reply": "2021-11-19T14:50:45.880951Z",
     "shell.execute_reply.started": "2021-11-19T14:50:45.870363Z"
    }
   },
   "outputs": [
    {
     "data": {
      "text/plain": [
       "108689.37274600228"
      ]
     },
     "execution_count": 10,
     "metadata": {},
     "output_type": "execute_result"
    }
   ],
   "source": [
    "rmse = math.sqrt(mean_squared_error(y_test,y_pred))\n",
    "rmse"
   ]
  },
  {
   "cell_type": "markdown",
   "metadata": {},
   "source": [
    "Polynomial Regression has high RMSE and overfits as seen below :(("
   ]
  },
  {
   "cell_type": "code",
   "execution_count": 11,
   "metadata": {
    "execution": {
     "iopub.execute_input": "2021-11-19T14:50:46.068840Z",
     "iopub.status.busy": "2021-11-19T14:50:46.068442Z",
     "iopub.status.idle": "2021-11-19T14:50:46.218712Z",
     "shell.execute_reply": "2021-11-19T14:50:46.217778Z",
     "shell.execute_reply.started": "2021-11-19T14:50:46.068798Z"
    }
   },
   "outputs": [
    {
     "data": {
      "text/plain": [
       "[<matplotlib.lines.Line2D at 0x7f53f361fd30>]"
      ]
     },
     "execution_count": 11,
     "metadata": {},
     "output_type": "execute_result"
    },
    {
     "data": {
      "image/png": "[encoded data removed]",
      "text/plain": [
       "<Figure size 432x288 with 1 Axes>"
      ]
     },
     "metadata": {
      "needs_background": "light"
     },
     "output_type": "display_data"
    }
   ],
   "source": [
    "plt.scatter(X_test, y_test, color = 'red')\n",
    "plt.plot(X_test, y_pred, color = 'blue')"
   ]
  },
  {
   "cell_type": "markdown",
   "metadata": {},
   "source": [
    "# Logsitic Regression\n",
    "Ignore warnings :) or use import warnings.warn"
   ]
  },
  {
   "cell_type": "code",
   "execution_count": 12,
   "metadata": {
    "execution": {
     "iopub.execute_input": "2021-11-19T14:50:46.306170Z",
     "iopub.status.busy": "2021-11-19T14:50:46.304169Z",
     "iopub.status.idle": "2021-11-19T14:50:46.314397Z",
     "shell.execute_reply": "2021-11-19T14:50:46.313495Z",
     "shell.execute_reply.started": "2021-11-19T14:50:46.306066Z"
    }
   },
   "outputs": [
    {
     "name": "stderr",
     "output_type": "stream",
     "text": [
      "/opt/conda/lib/python3.6/site-packages/sklearn/linear_model/logistic.py:432: FutureWarning: Default solver will be changed to 'lbfgs' in 0.22. Specify a solver to silence this warning.\n",
      "  FutureWarning)\n",
      "/opt/conda/lib/python3.6/site-packages/sklearn/linear_model/logistic.py:469: FutureWarning: Default multi_class will be changed to 'auto' in 0.22. Specify the multi_class option to silence this warning.\n",
      "  \"this warning.\", FutureWarning)\n"
     ]
    }
   ],
   "source": [
    "log=LogisticRegression()\n",
    "log.fit(X_train,y_train)\n",
    "y_pred=log.predict(X_test)\n"
   ]
  },
  {
   "cell_type": "code",
   "execution_count": 13,
   "metadata": {
    "execution": {
     "iopub.execute_input": "2021-11-19T14:50:46.400767Z",
     "iopub.status.busy": "2021-11-19T14:50:46.400441Z",
     "iopub.status.idle": "2021-11-19T14:50:46.406777Z",
     "shell.execute_reply": "2021-11-19T14:50:46.405779Z",
     "shell.execute_reply.started": "2021-11-19T14:50:46.400706Z"
    }
   },
   "outputs": [
    {
     "data": {
      "text/plain": [
       "125450000000.0"
      ]
     },
     "execution_count": 13,
     "metadata": {},
     "output_type": "execute_result"
    }
   ],
   "source": [
    "rmse=mean_squared_error(y_pred,y_test)\n",
    "rmse"
   ]
  },
  {
   "cell_type": "code",
   "execution_count": 14,
   "metadata": {
    "execution": {
     "iopub.execute_input": "2021-11-19T14:53:13.008728Z",
     "iopub.status.busy": "2021-11-19T14:53:13.008432Z",
     "iopub.status.idle": "2021-11-19T14:53:13.157423Z",
     "shell.execute_reply": "2021-11-19T14:53:13.156827Z",
     "shell.execute_reply.started": "2021-11-19T14:53:13.008683Z"
    }
   },
   "outputs": [
    {
     "data": {
      "text/plain": [
       "[<matplotlib.lines.Line2D at 0x7f53db20dc50>]"
      ]
     },
     "execution_count": 14,
     "metadata": {},
     "output_type": "execute_result"
    },
    {
     "data": {
      "image/png": "[encoded data removed]",
      "text/plain": [
       "<Figure size 432x288 with 1 Axes>"
      ]
     },
     "metadata": {
      "needs_background": "light"
     },
     "output_type": "display_data"
    }
   ],
   "source": [
    "plt.scatter(X_test, y_test, color = 'red')\n",
    "plt.plot(X_test, y_pred, color = 'blue')"
   ]
  },
  {
   "cell_type": "markdown",
   "metadata": {},
   "source": [
    "Since dataset is very small we can see we can see our algorithms need more data, so we don't split the dataset"
   ]
  },
  {
   "cell_type": "markdown",
   "metadata": {},
   "source": [
    "# Full Dataset"
   ]
  },
  {
   "cell_type": "code",
   "execution_count": 15,
   "metadata": {
    "execution": {
     "iopub.execute_input": "2021-11-19T14:56:06.164126Z",
     "iopub.status.busy": "2021-11-19T14:56:06.163609Z",
     "iopub.status.idle": "2021-11-19T14:56:06.172907Z",
     "shell.execute_reply": "2021-11-19T14:56:06.172232Z",
     "shell.execute_reply.started": "2021-11-19T14:56:06.164061Z"
    }
   },
   "outputs": [
    {
     "data": {
      "text/plain": [
       "163388.73519272613"
      ]
     },
     "execution_count": 15,
     "metadata": {},
     "output_type": "execute_result"
    }
   ],
   "source": [
    "lin_reg = LinearRegression()\n",
    "lin_reg.fit(X,y)\n",
    "y_pred=lin_reg.predict(X)\n",
    "\n",
    "rmse = math.sqrt(mean_squared_error(y,y_pred)) # False means ROOT is taken :D\n",
    "\n",
    "rmse"
   ]
  },
  {
   "cell_type": "code",
   "execution_count": 16,
   "metadata": {
    "execution": {
     "iopub.execute_input": "2021-11-19T14:56:33.612191Z",
     "iopub.status.busy": "2021-11-19T14:56:33.611697Z",
     "iopub.status.idle": "2021-11-19T14:56:33.752938Z",
     "shell.execute_reply": "2021-11-19T14:56:33.752194Z",
     "shell.execute_reply.started": "2021-11-19T14:56:33.612147Z"
    }
   },
   "outputs": [
    {
     "data": {
      "image/png": "[encoded data removed]",
      "text/plain": [
       "<Figure size 432x288 with 1 Axes>"
      ]
     },
     "metadata": {
      "needs_background": "light"
     },
     "output_type": "display_data"
    }
   ],
   "source": [
    "plt.scatter(X, y, color = 'red')\n",
    "plt.plot(X, y_pred, color = 'blue')\n",
    "plt.title('Truth or Bluff (Linear Regression)')\n",
    "plt.xlabel('Position level')\n",
    "plt.ylabel('Salary')\n",
    "plt.show()"
   ]
  },
  {
   "cell_type": "code",
   "execution_count": 17,
   "metadata": {
    "execution": {
     "iopub.execute_input": "2021-11-19T15:11:01.466346Z",
     "iopub.status.busy": "2021-11-19T15:11:01.466044Z",
     "iopub.status.idle": "2021-11-19T15:11:01.476002Z",
     "shell.execute_reply": "2021-11-19T15:11:01.474858Z",
     "shell.execute_reply.started": "2021-11-19T15:11:01.466299Z"
    }
   },
   "outputs": [
    {
     "data": {
      "text/plain": [
       "38931.50401232928"
      ]
     },
     "execution_count": 17,
     "metadata": {},
     "output_type": "execute_result"
    }
   ],
   "source": [
    "from sklearn.preprocessing import PolynomialFeatures\n",
    "poly_reg = PolynomialFeatures(degree = 3)\n",
    "X_poly = poly_reg.fit_transform(X)\n",
    "poly_reg.fit(X_poly, y)\n",
    "lin_reg_2 = LinearRegression()\n",
    "lin_reg_2.fit(X_poly, y)\n",
    "y_pred=lin_reg_2.predict(X_poly)\n",
    "rmse = math.sqrt(mean_squared_error(y,y_pred))\n",
    "rmse"
   ]
  },
  {
   "cell_type": "markdown",
   "metadata": {},
   "source": [
    "Visualising the Polynomial Regression results"
   ]
  },
  {
   "cell_type": "code",
   "execution_count": 18,
   "metadata": {
    "execution": {
     "iopub.execute_input": "2021-11-19T15:11:02.385822Z",
     "iopub.status.busy": "2021-11-19T15:11:02.385516Z",
     "iopub.status.idle": "2021-11-19T15:11:02.621283Z",
     "shell.execute_reply": "2021-11-19T15:11:02.620072Z",
     "shell.execute_reply.started": "2021-11-19T15:11:02.385774Z"
    }
   },
   "outputs": [
    {
     "data": {
      "image/png": "[encoded data removed]",
      "text/plain": [
       "<Figure size 432x288 with 1 Axes>"
      ]
     },
     "metadata": {
      "needs_background": "light"
     },
     "output_type": "display_data"
    }
   ],
   "source": [
    "plt.scatter(X, y, color = 'red')\n",
    "plt.plot(X, y_pred, color = 'blue')\n",
    "plt.title('Truth or Bluff (Polynomial Regression)')\n",
    "plt.xlabel('Position level')\n",
    "plt.ylabel('Salary')\n",
    "plt.show()"
   ]
  },
  {
   "cell_type": "markdown",
   "metadata": {},
   "source": [
    "Overfitting"
   ]
  },
  {
   "cell_type": "code",
   "execution_count": 19,
   "metadata": {
    "execution": {
     "iopub.execute_input": "2021-11-19T15:11:30.834227Z",
     "iopub.status.busy": "2021-11-19T15:11:30.833918Z",
     "iopub.status.idle": "2021-11-19T15:11:31.062942Z",
     "shell.execute_reply": "2021-11-19T15:11:31.061571Z",
     "shell.execute_reply.started": "2021-11-19T15:11:30.834181Z"
    }
   },
   "outputs": [
    {
     "data": {
      "image/png": "[encoded data removed]",
      "text/plain": [
       "<Figure size 432x288 with 1 Axes>"
      ]
     },
     "metadata": {
      "needs_background": "light"
     },
     "output_type": "display_data"
    }
   ],
   "source": [
    "from sklearn.preprocessing import PolynomialFeatures\n",
    "poly_reg = PolynomialFeatures(degree = 4)\n",
    "X_poly = poly_reg.fit_transform(X)\n",
    "poly_reg.fit(X_poly, y)\n",
    "lin_reg_2 = LinearRegression()\n",
    "lin_reg_2.fit(X_poly, y)\n",
    "y_pred=lin_reg_2.predict(X_poly)\n",
    "rmse = math.sqrt(mean_squared_error(y,y_pred))\n",
    "rmse\n",
    "plt.scatter(X, y, color = 'red')\n",
    "plt.plot(X, y_pred, color = 'blue')\n",
    "plt.title('Truth or Bluff (Polynomial Regression)')\n",
    "plt.xlabel('Position level')\n",
    "plt.ylabel('Salary')\n",
    "plt.show()"
   ]
  },
  {
   "cell_type": "markdown",
   "metadata": {},
   "source": [
    "4 also overfits"
   ]
  },
  {
   "cell_type": "code",
   "execution_count": 20,
   "metadata": {
    "execution": {
     "iopub.execute_input": "2021-11-19T15:11:58.042571Z",
     "iopub.status.busy": "2021-11-19T15:11:58.042252Z",
     "iopub.status.idle": "2021-11-19T15:11:58.268296Z",
     "shell.execute_reply": "2021-11-19T15:11:58.267286Z",
     "shell.execute_reply.started": "2021-11-19T15:11:58.042521Z"
    }
   },
   "outputs": [
    {
     "data": {
      "image/png": "[encoded data removed]",
      "text/plain": [
       "<Figure size 432x288 with 1 Axes>"
      ]
     },
     "metadata": {
      "needs_background": "light"
     },
     "output_type": "display_data"
    }
   ],
   "source": [
    "from sklearn.preprocessing import PolynomialFeatures\n",
    "poly_reg = PolynomialFeatures(degree = 2)\n",
    "X_poly = poly_reg.fit_transform(X)\n",
    "poly_reg.fit(X_poly, y)\n",
    "lin_reg_2 = LinearRegression()\n",
    "lin_reg_2.fit(X_poly, y)\n",
    "y_pred=lin_reg_2.predict(X_poly)\n",
    "rmse = math.sqrt(mean_squared_error(y,y_pred))\n",
    "rmse\n",
    "plt.scatter(X, y, color = 'red')\n",
    "plt.plot(X, y_pred, color = 'blue')\n",
    "plt.title('Truth or Bluff (Polynomial Regression)')\n",
    "plt.xlabel('Position level')\n",
    "plt.ylabel('Salary')\n",
    "plt.show()"
   ]
  },
  {
   "cell_type": "markdown",
   "metadata": {},
   "source": [
    "A Polynomial Regression of degreee 2 does not overfit"
   ]
  },
  {
   "cell_type": "markdown",
   "metadata": {},
   "source": [
    "Visualising the Polynomial Regression results (for higher resolution and smoother curve)\n"
   ]
  },
  {
   "cell_type": "code",
   "execution_count": 21,
   "metadata": {
    "execution": {
     "iopub.execute_input": "2021-11-19T15:10:07.349096Z",
     "iopub.status.busy": "2021-11-19T15:10:07.348763Z",
     "iopub.status.idle": "2021-11-19T15:10:07.357108Z",
     "shell.execute_reply": "2021-11-19T15:10:07.356182Z",
     "shell.execute_reply.started": "2021-11-19T15:10:07.349057Z"
    }
   },
   "outputs": [
    {
     "name": "stderr",
     "output_type": "stream",
     "text": [
      "/opt/conda/lib/python3.6/site-packages/sklearn/linear_model/logistic.py:432: FutureWarning: Default solver will be changed to 'lbfgs' in 0.22. Specify a solver to silence this warning.\n",
      "  FutureWarning)\n",
      "/opt/conda/lib/python3.6/site-packages/sklearn/linear_model/logistic.py:469: FutureWarning: Default multi_class will be changed to 'auto' in 0.22. Specify the multi_class option to silence this warning.\n",
      "  \"this warning.\", FutureWarning)\n"
     ]
    },
    {
     "data": {
      "text/plain": [
       "627550.7947568865"
      ]
     },
     "execution_count": 21,
     "metadata": {},
     "output_type": "execute_result"
    }
   ],
   "source": [
    "log=LogisticRegression()\n",
    "log.fit(X,y)\n",
    "y_pred=log.predict(X)\n",
    "rmse = math.sqrt(mean_squared_error(y,y_pred))\n",
    "rmse"
   ]
  },
  {
   "cell_type": "code",
   "execution_count": 22,
   "metadata": {
    "execution": {
     "iopub.execute_input": "2021-11-19T15:10:08.070271Z",
     "iopub.status.busy": "2021-11-19T15:10:08.069682Z",
     "iopub.status.idle": "2021-11-19T15:10:08.298214Z",
     "shell.execute_reply": "2021-11-19T15:10:08.296997Z",
     "shell.execute_reply.started": "2021-11-19T15:10:08.070219Z"
    }
   },
   "outputs": [
    {
     "data": {
      "image/png": "[encoded data removed]",
      "text/plain": [
       "<Figure size 432x288 with 1 Axes>"
      ]
     },
     "metadata": {
      "needs_background": "light"
     },
     "output_type": "display_data"
    }
   ],
   "source": [
    "plt.scatter(X, y, color = 'red')\n",
    "plt.plot(X, y_pred, color = 'blue')\n",
    "plt.title('Truth or Bluff (Logsistic Regression)')\n",
    "plt.xlabel('Position level')\n",
    "plt.ylabel('Salary')\n",
    "plt.show()"
   ]
  },
  {
   "cell_type": "code",
   "execution_count": 23,
   "metadata": {
    "execution": {
     "iopub.execute_input": "2021-11-19T15:04:24.603278Z",
     "iopub.status.busy": "2021-11-19T15:04:24.602798Z",
     "iopub.status.idle": "2021-11-19T15:04:24.837896Z",
     "shell.execute_reply": "2021-11-19T15:04:24.836885Z",
     "shell.execute_reply.started": "2021-11-19T15:04:24.603222Z"
    }
   },
   "outputs": [
    {
     "data": {
      "image/png": "[encoded data removed]",
      "text/plain": [
       "<Figure size 432x288 with 1 Axes>"
      ]
     },
     "metadata": {
      "needs_background": "light"
     },
     "output_type": "display_data"
    }
   ],
   "source": [
    "X_grid = np.arange(min(X), max(X), 0.1)\n",
    "X_grid = X_grid.reshape((len(X_grid), 1))\n",
    "plt.scatter(X, y, color = 'red')\n",
    "plt.plot(X_grid, lin_reg_2.predict(poly_reg.fit_transform(X_grid)), color = 'blue')\n",
    "plt.title('Truth or Bluff (Polynomial Regression)')\n",
    "plt.xlabel('Position level')\n",
    "plt.ylabel('Salary')\n",
    "plt.show()"
   ]
  },
  {
   "cell_type": "markdown",
   "metadata": {},
   "source": [
    " Predicting a new result with Linear Regression"
   ]
  },
  {
   "cell_type": "markdown",
   "metadata": {},
   "source": [
    "Predicting a new result with Polynomial Regression"
   ]
  },
  {
   "cell_type": "code",
   "execution_count": 24,
   "metadata": {},
   "outputs": [
    {
     "data": {
      "text/plain": [
       "array([189498.10606061])"
      ]
     },
     "execution_count": 24,
     "metadata": {},
     "output_type": "execute_result"
    }
   ],
   "source": [
    "lin_reg_2.predict(poly_reg.fit_transform([[6.5]]))"
   ]
  }
 ],
 "metadata": {
  "kernelspec": {
   "display_name": "Python 3",
   "language": "python",
   "name": "python3"
  },
  "language_info": {
   "codemirror_mode": {
    "name": "ipython",
    "version": 3
   },
   "file_extension": ".py",
   "mimetype": "text/x-python",
   "name": "python",
   "nbconvert_exporter": "python",
   "pygments_lexer": "ipython3",
   "version": "3.6.6"
  }
 },
 "nbformat": 4,
 "nbformat_minor": 4
}
