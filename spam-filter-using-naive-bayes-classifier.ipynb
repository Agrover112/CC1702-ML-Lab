{
 "cells": [
  {
   "cell_type": "markdown",
   "metadata": {
    "_uuid": "38fc7b0f579e283e26411cd01392d2015f5d59d3"
   },
   "source": [
    "# Spam Filter using Naive Bayes Classifier"
   ]
  },
  {
   "cell_type": "code",
   "execution_count": 1,
   "metadata": {
    "_uuid": "3cd0ba00276179eb630b14d809c2bfbdcdc7f5c7",
    "execution": {
     "iopub.execute_input": "2021-11-24T06:39:20.305911Z",
     "iopub.status.busy": "2021-11-24T06:39:20.305370Z",
     "iopub.status.idle": "2021-11-24T06:39:20.320069Z",
     "shell.execute_reply": "2021-11-24T06:39:20.318710Z",
     "shell.execute_reply.started": "2021-11-24T06:39:20.305796Z"
    }
   },
   "outputs": [
    {
     "name": "stdout",
     "output_type": "stream",
     "text": [
      "['spam.csv']\n"
     ]
    }
   ],
   "source": [
    "import os\n",
    "print(os.listdir(\"../input\"))"
   ]
  },
  {
   "cell_type": "markdown",
   "metadata": {
    "_uuid": "52bd1fe4c789af10c8f6bcebe9e3c8fd3c101781"
   },
   "source": [
    "**Import libraries**"
   ]
  },
  {
   "cell_type": "code",
   "execution_count": 2,
   "metadata": {
    "_uuid": "11ce4eaf13356cd47e341aea85670f36a13164d8",
    "execution": {
     "iopub.execute_input": "2021-11-24T06:39:21.011281Z",
     "iopub.status.busy": "2021-11-24T06:39:21.010872Z",
     "iopub.status.idle": "2021-11-24T06:39:21.845560Z",
     "shell.execute_reply": "2021-11-24T06:39:21.844022Z",
     "shell.execute_reply.started": "2021-11-24T06:39:21.011211Z"
    }
   },
   "outputs": [],
   "source": [
    "import numpy as np\n",
    "import pandas as pd\n",
    "import matplotlib.pyplot as plt\n",
    "import seaborn as sns\n",
    "%matplotlib inline"
   ]
  },
  {
   "cell_type": "markdown",
   "metadata": {
    "_uuid": "6213264582afb6541e4ae286710ac0051a859685"
   },
   "source": [
    "**Read csv file**"
   ]
  },
  {
   "cell_type": "code",
   "execution_count": 3,
   "metadata": {
    "_uuid": "8163f26bff8891be58ce9cbf544d8a67f71974ec",
    "execution": {
     "iopub.execute_input": "2021-11-24T06:39:21.888138Z",
     "iopub.status.busy": "2021-11-24T06:39:21.887751Z",
     "iopub.status.idle": "2021-11-24T06:39:21.956296Z",
     "shell.execute_reply": "2021-11-24T06:39:21.955287Z",
     "shell.execute_reply.started": "2021-11-24T06:39:21.888082Z"
    }
   },
   "outputs": [],
   "source": [
    "df = pd.read_csv('../input/spam.csv', encoding='latin-1')[['v1', 'v2']]\n"
   ]
  },
  {
   "cell_type": "markdown",
   "metadata": {},
   "source": [
    "Viewing after renaming the columns"
   ]
  },
  {
   "cell_type": "code",
   "execution_count": 4,
   "metadata": {
    "execution": {
     "iopub.execute_input": "2021-11-24T06:39:22.585337Z",
     "iopub.status.busy": "2021-11-24T06:39:22.585024Z",
     "iopub.status.idle": "2021-11-24T06:39:22.616393Z",
     "shell.execute_reply": "2021-11-24T06:39:22.615381Z",
     "shell.execute_reply.started": "2021-11-24T06:39:22.585287Z"
    }
   },
   "outputs": [
    {
     "data": {
      "text/html": [
       "<div>\n",
       "<style scoped>\n",
       "    .dataframe tbody tr th:only-of-type {\n",
       "        vertical-align: middle;\n",
       "    }\n",
       "\n",
       "    .dataframe tbody tr th {\n",
       "        vertical-align: top;\n",
       "    }\n",
       "\n",
       "    .dataframe thead th {\n",
       "        text-align: right;\n",
       "    }\n",
       "</style>\n",
       "<table border=\"1\" class=\"dataframe\">\n",
       "  <thead>\n",
       "    <tr style=\"text-align: right;\">\n",
       "      <th></th>\n",
       "      <th>label</th>\n",
       "      <th>message</th>\n",
       "    </tr>\n",
       "  </thead>\n",
       "  <tbody>\n",
       "    <tr>\n",
       "      <th>0</th>\n",
       "      <td>ham</td>\n",
       "      <td>Go until jurong point, crazy.. Available only ...</td>\n",
       "    </tr>\n",
       "    <tr>\n",
       "      <th>1</th>\n",
       "      <td>ham</td>\n",
       "      <td>Ok lar... Joking wif u oni...</td>\n",
       "    </tr>\n",
       "    <tr>\n",
       "      <th>2</th>\n",
       "      <td>spam</td>\n",
       "      <td>Free entry in 2 a wkly comp to win FA Cup fina...</td>\n",
       "    </tr>\n",
       "    <tr>\n",
       "      <th>3</th>\n",
       "      <td>ham</td>\n",
       "      <td>U dun say so early hor... U c already then say...</td>\n",
       "    </tr>\n",
       "    <tr>\n",
       "      <th>4</th>\n",
       "      <td>ham</td>\n",
       "      <td>Nah I don't think he goes to usf, he lives aro...</td>\n",
       "    </tr>\n",
       "  </tbody>\n",
       "</table>\n",
       "</div>"
      ],
      "text/plain": [
       "  label                                            message\n",
       "0   ham  Go until jurong point, crazy.. Available only ...\n",
       "1   ham                      Ok lar... Joking wif u oni...\n",
       "2  spam  Free entry in 2 a wkly comp to win FA Cup fina...\n",
       "3   ham  U dun say so early hor... U c already then say...\n",
       "4   ham  Nah I don't think he goes to usf, he lives aro..."
      ]
     },
     "execution_count": 4,
     "metadata": {},
     "output_type": "execute_result"
    }
   ],
   "source": [
    "df.columns = ['label', 'message']\n",
    "df.head()"
   ]
  },
  {
   "cell_type": "markdown",
   "metadata": {
    "_uuid": "431a0a9e236da04a37713645f200e580124bdae4"
   },
   "source": [
    "View the lable statistics"
   ]
  },
  {
   "cell_type": "code",
   "execution_count": 5,
   "metadata": {
    "_uuid": "95fa040f71997610cba921618485ae2d465e1188",
    "execution": {
     "iopub.execute_input": "2021-11-24T06:39:23.465996Z",
     "iopub.status.busy": "2021-11-24T06:39:23.464316Z",
     "iopub.status.idle": "2021-11-24T06:39:23.527769Z",
     "shell.execute_reply": "2021-11-24T06:39:23.527061Z",
     "shell.execute_reply.started": "2021-11-24T06:39:23.464855Z"
    }
   },
   "outputs": [
    {
     "data": {
      "text/html": [
       "<div>\n",
       "<style scoped>\n",
       "    .dataframe tbody tr th:only-of-type {\n",
       "        vertical-align: middle;\n",
       "    }\n",
       "\n",
       "    .dataframe tbody tr th {\n",
       "        vertical-align: top;\n",
       "    }\n",
       "\n",
       "    .dataframe thead tr th {\n",
       "        text-align: left;\n",
       "    }\n",
       "\n",
       "    .dataframe thead tr:last-of-type th {\n",
       "        text-align: right;\n",
       "    }\n",
       "</style>\n",
       "<table border=\"1\" class=\"dataframe\">\n",
       "  <thead>\n",
       "    <tr>\n",
       "      <th></th>\n",
       "      <th colspan=\"4\" halign=\"left\">message</th>\n",
       "    </tr>\n",
       "    <tr>\n",
       "      <th></th>\n",
       "      <th>count</th>\n",
       "      <th>unique</th>\n",
       "      <th>top</th>\n",
       "      <th>freq</th>\n",
       "    </tr>\n",
       "    <tr>\n",
       "      <th>label</th>\n",
       "      <th></th>\n",
       "      <th></th>\n",
       "      <th></th>\n",
       "      <th></th>\n",
       "    </tr>\n",
       "  </thead>\n",
       "  <tbody>\n",
       "    <tr>\n",
       "      <th>ham</th>\n",
       "      <td>4825</td>\n",
       "      <td>4516</td>\n",
       "      <td>Sorry, I'll call later</td>\n",
       "      <td>30</td>\n",
       "    </tr>\n",
       "    <tr>\n",
       "      <th>spam</th>\n",
       "      <td>747</td>\n",
       "      <td>653</td>\n",
       "      <td>Please call our customer service representativ...</td>\n",
       "      <td>4</td>\n",
       "    </tr>\n",
       "  </tbody>\n",
       "</table>\n",
       "</div>"
      ],
      "text/plain": [
       "      message ...      \n",
       "        count ...  freq\n",
       "label         ...      \n",
       "ham      4825 ...    30\n",
       "spam      747 ...     4\n",
       "\n",
       "[2 rows x 4 columns]"
      ]
     },
     "execution_count": 5,
     "metadata": {},
     "output_type": "execute_result"
    }
   ],
   "source": [
    "df.groupby('label').describe()"
   ]
  },
  {
   "cell_type": "markdown",
   "metadata": {},
   "source": [
    "View the counts of ham and spam present in label column"
   ]
  },
  {
   "cell_type": "code",
   "execution_count": 6,
   "metadata": {
    "_uuid": "79bbf66e99ac1a0c4c71dcdd7854060037682c06",
    "execution": {
     "iopub.execute_input": "2021-11-24T06:39:24.395941Z",
     "iopub.status.busy": "2021-11-24T06:39:24.394754Z",
     "iopub.status.idle": "2021-11-24T06:39:24.630223Z",
     "shell.execute_reply": "2021-11-24T06:39:24.629104Z",
     "shell.execute_reply.started": "2021-11-24T06:39:24.395316Z"
    }
   },
   "outputs": [
    {
     "data": {
      "text/plain": [
       "<matplotlib.axes._subplots.AxesSubplot at 0x7faf5cd62390>"
      ]
     },
     "execution_count": 6,
     "metadata": {},
     "output_type": "execute_result"
    },
    {
     "data": {
      "image/png": "[encoded data removed]",
      "text/plain": [
       "<Figure size 432x288 with 1 Axes>"
      ]
     },
     "metadata": {},
     "output_type": "display_data"
    }
   ],
   "source": [
    "sns.countplot(data=df, x='label')"
   ]
  },
  {
   "cell_type": "markdown",
   "metadata": {
    "_uuid": "60d48951ca5086115e08ede667a162ee9b92073a"
   },
   "source": [
    "\n",
    "**Steps**\n",
    "1. Clean and Normalize text\n",
    "2. Convert text into vectors (BoW) we use TfIdf\n",
    "3. Train and test Classifier"
   ]
  },
  {
   "cell_type": "markdown",
   "metadata": {
    "_uuid": "519a4d4c06557a8623252baaff13054162cf7ab5"
   },
   "source": [
    "**Cleaning steps**\n",
    "<br>\n",
    "It will be done in following steps:\n",
    "<br>\n",
    "1. Remove punctuations\n",
    "2. Remove all stopwords\n",
    "3. Apply [stemming](https://en.wikipedia.org/wiki/Stemming) (get the stem of the word). "
   ]
  },
  {
   "cell_type": "markdown",
   "metadata": {
    "_uuid": "6969645b7c1eae007f7c533cb01f66e7524637bf"
   },
   "source": [
    "** Write a method to return normailzed text in form of tokens (lemmas)**"
   ]
  },
  {
   "cell_type": "code",
   "execution_count": 7,
   "metadata": {
    "_uuid": "500971b5d102765bb5e6537943dd3e3d7ce9af02",
    "execution": {
     "iopub.execute_input": "2021-11-24T06:52:34.578054Z",
     "iopub.status.busy": "2021-11-24T06:52:34.577527Z",
     "iopub.status.idle": "2021-11-24T06:52:34.584974Z",
     "shell.execute_reply": "2021-11-24T06:52:34.583605Z",
     "shell.execute_reply.started": "2021-11-24T06:52:34.578004Z"
    }
   },
   "outputs": [],
   "source": [
    "import string\n",
    "from nltk.corpus import stopwords\n",
    "from nltk import PorterStemmer as Stemmer\n",
    "def pre_process(text):\n",
    "    text = text.lower()\n",
    "    text = ''.join([t for t in text if t not in string.punctuation])\n",
    "    text = [t for t in text.split() if t not in stopwords.words('english')] # All words other tha stopwrods and punctuations in lowercase\n",
    "    st = Stemmer()\n",
    "    text = [st.stem(t) for t in text]\n",
    "    return text"
   ]
  },
  {
   "cell_type": "code",
   "execution_count": 8,
   "metadata": {
    "_uuid": "21d1a8ec02208c20664d67770a94fc0261920f1a",
    "execution": {
     "iopub.execute_input": "2021-11-24T06:52:41.855572Z",
     "iopub.status.busy": "2021-11-24T06:52:41.855208Z",
     "iopub.status.idle": "2021-11-24T06:52:41.866136Z",
     "shell.execute_reply": "2021-11-24T06:52:41.864939Z",
     "shell.execute_reply.started": "2021-11-24T06:52:41.855506Z"
    }
   },
   "outputs": [
    {
     "data": {
      "text/plain": [
       "['holiday', 'lad', 'mount', 'play', 'well']"
      ]
     },
     "execution_count": 8,
     "metadata": {},
     "output_type": "execute_result"
    }
   ],
   "source": [
    "pre_process('It\\'s holiday lads :D. Mount is playing very well!!!')"
   ]
  },
  {
   "cell_type": "code",
   "execution_count": 9,
   "metadata": {
    "_uuid": "659631e15f988f3f7282eaea14799243a7e25b5f",
    "execution": {
     "iopub.execute_input": "2021-11-24T06:52:46.763167Z",
     "iopub.status.busy": "2021-11-24T06:52:46.762846Z",
     "iopub.status.idle": "2021-11-24T06:52:46.853618Z",
     "shell.execute_reply": "2021-11-24T06:52:46.852709Z",
     "shell.execute_reply.started": "2021-11-24T06:52:46.763118Z"
    }
   },
   "outputs": [
    {
     "data": {
      "text/plain": [
       "0     [go, jurong, point, crazi, avail, bugi, n, gre...\n",
       "1                          [ok, lar, joke, wif, u, oni]\n",
       "2     [free, entri, 2, wkli, comp, win, fa, cup, fin...\n",
       "3         [u, dun, say, earli, hor, u, c, alreadi, say]\n",
       "4     [nah, dont, think, goe, usf, live, around, tho...\n",
       "5     [freemsg, hey, darl, 3, week, word, back, id, ...\n",
       "6     [even, brother, like, speak, treat, like, aid,...\n",
       "7     [per, request, mell, mell, oru, minnaminungint...\n",
       "8     [winner, valu, network, custom, select, receiv...\n",
       "9     [mobil, 11, month, u, r, entitl, updat, latest...\n",
       "10    [im, gonna, home, soon, dont, want, talk, stuf...\n",
       "11    [six, chanc, win, cash, 100, 20000, pound, txt...\n",
       "12    [urgent, 1, week, free, membership, å£100000, ...\n",
       "13    [ive, search, right, word, thank, breather, pr...\n",
       "14                                       [date, sunday]\n",
       "15    [xxxmobilemovieclub, use, credit, click, wap, ...\n",
       "16                                     [oh, kim, watch]\n",
       "17    [eh, u, rememb, 2, spell, name, ye, v, naughti...\n",
       "18    [fine, thatåõ, way, u, feel, thatåõ, way, gota...\n",
       "19    [england, v, macedonia, dont, miss, goalsteam,...\n",
       "20                               [serious, spell, name]\n",
       "Name: message, dtype: object"
      ]
     },
     "execution_count": 9,
     "metadata": {},
     "output_type": "execute_result"
    }
   ],
   "source": [
    "# Test with our dataset\n",
    "df['message'][:21].apply(pre_process)"
   ]
  },
  {
   "attachments": {
    "6a549a7a-1244-4e21-bbb9-9a9408450d87.png": {
     "image/png": "[encoded data removed]"
    }
   },
   "cell_type": "markdown",
   "metadata": {},
   "source": [
    "Refer scikitlearn for details on TfIDf\n",
    "\n",
    "\n",
    "![image.png](attachment:6a549a7a-1244-4e21-bbb9-9a9408450d87.png)"
   ]
  },
  {
   "cell_type": "markdown",
   "metadata": {
    "_uuid": "99201820a778649a32132381142034c46ec69c7b"
   },
   "source": [
    "**Fit and transform SMS corpus**"
   ]
  },
  {
   "cell_type": "code",
   "execution_count": 10,
   "metadata": {
    "_uuid": "0afb400d1c0b2e74bccc09e44b1698616034b003",
    "execution": {
     "iopub.execute_input": "2021-11-24T06:56:19.745443Z",
     "iopub.status.busy": "2021-11-24T06:56:19.744758Z",
     "iopub.status.idle": "2021-11-24T06:56:34.070538Z",
     "shell.execute_reply": "2021-11-24T06:56:34.069675Z",
     "shell.execute_reply.started": "2021-11-24T06:56:19.745370Z"
    }
   },
   "outputs": [],
   "source": [
    "from sklearn.feature_extraction.text import TfidfVectorizer\n",
    "tfidf= TfidfVectorizer(analyzer=pre_process)\n",
    "data = tfidf.fit_transform(df['message'])"
   ]
  },
  {
   "cell_type": "code",
   "execution_count": 11,
   "metadata": {
    "execution": {
     "iopub.execute_input": "2021-11-24T06:58:33.149023Z",
     "iopub.status.busy": "2021-11-24T06:58:33.148405Z",
     "iopub.status.idle": "2021-11-24T06:58:33.154748Z",
     "shell.execute_reply": "2021-11-24T06:58:33.153911Z",
     "shell.execute_reply.started": "2021-11-24T06:58:33.148956Z"
    }
   },
   "outputs": [],
   "source": [
    "message=df.iloc[2]"
   ]
  },
  {
   "cell_type": "code",
   "execution_count": 12,
   "metadata": {
    "_uuid": "eff9cedfea7508bdafd8a361acbd82a554e16ea4",
    "execution": {
     "iopub.execute_input": "2021-11-24T06:58:33.969260Z",
     "iopub.status.busy": "2021-11-24T06:58:33.968932Z",
     "iopub.status.idle": "2021-11-24T06:58:33.982106Z",
     "shell.execute_reply": "2021-11-24T06:58:33.981203Z",
     "shell.execute_reply.started": "2021-11-24T06:58:33.969198Z"
    }
   },
   "outputs": [
    {
     "name": "stdout",
     "output_type": "stream",
     "text": [
      "  (0, 6535)\t1.0\n",
      "  (1, 7741)\t0.18906287739887084\n",
      "  (1, 7708)\t0.14471405235314777\n",
      "  (1, 7276)\t0.12336193745345178\n",
      "  (1, 7099)\t0.2190885570936267\n",
      "  (1, 6959)\t0.11759458460817876\n",
      "  (1, 5856)\t0.16027970945850903\n",
      "  (1, 5815)\t0.2330497030932461\n",
      "  (1, 5768)\t0.2330497030932461\n",
      "  (1, 4592)\t0.15903719770411495\n",
      "  (1, 3091)\t0.11505037200973967\n",
      "  (1, 2969)\t0.16669800498830506\n",
      "  (1, 2868)\t0.4660994061864922\n",
      "  (1, 2748)\t0.3571909758763146\n",
      "  (1, 2246)\t0.20302402339849024\n",
      "  (1, 2076)\t0.19516151371199045\n",
      "  (1, 1180)\t0.16669800498830506\n",
      "  (1, 833)\t0.2190885570936267\n",
      "  (1, 433)\t0.22518719340674634\n",
      "  (1, 420)\t0.22518719340674634\n",
      "  (1, 413)\t0.09987750376879972\n",
      "  (1, 72)\t0.2330497030932461\n"
     ]
    }
   ],
   "source": [
    "print(tfidf.transform(df.iloc[2]))"
   ]
  },
  {
   "cell_type": "markdown",
   "metadata": {
    "_uuid": "8b59fb4f20880e31341d09e0590de002693d134c"
   },
   "source": [
    "**Having messages in form of vectors, we are ready to train our classifier. <br>We will use Naive Bayes which is well known classifier while working with text data. \n",
    "<br>Before that we will use pipeline feature of sklearn to create a pipeline of TfidfVectorizer followed by Classifier.**\n",
    "<br>Input will be message passed to first stage TfidfVectorizer which will transform it and pass it to Naive Bayes Classifier to get output label"
   ]
  },
  {
   "cell_type": "code",
   "execution_count": 13,
   "metadata": {
    "execution": {
     "iopub.execute_input": "2021-11-24T07:05:20.760005Z",
     "iopub.status.busy": "2021-11-24T07:05:20.759688Z",
     "iopub.status.idle": "2021-11-24T07:05:20.766249Z",
     "shell.execute_reply": "2021-11-24T07:05:20.764986Z",
     "shell.execute_reply.started": "2021-11-24T07:05:20.759959Z"
    }
   },
   "outputs": [],
   "source": [
    " from sklearn.base import TransformerMixin\n",
    "class DenseTransformer(TransformerMixin):\n",
    "\n",
    "    def fit(self, X, y=None, **fit_params):\n",
    "        return self\n",
    "\n",
    "    def transform(self, X, y=None, **fit_params):\n",
    "        return X.todense()"
   ]
  },
  {
   "cell_type": "code",
   "execution_count": 14,
   "metadata": {
    "_uuid": "5685a89bdfa619ae1413437aee6d4024077c73d3",
    "execution": {
     "iopub.execute_input": "2021-11-24T07:10:25.399720Z",
     "iopub.status.busy": "2021-11-24T07:10:25.399266Z",
     "iopub.status.idle": "2021-11-24T07:10:25.404975Z",
     "shell.execute_reply": "2021-11-24T07:10:25.404239Z",
     "shell.execute_reply.started": "2021-11-24T07:10:25.399679Z"
    }
   },
   "outputs": [],
   "source": [
    "from sklearn.pipeline import Pipeline\n",
    "from sklearn.naive_bayes import GaussianNB, MultinomialNB\n",
    "spam_filter = Pipeline([\n",
    "    ('vectorizer', TfidfVectorizer(analyzer=pre_process)),\n",
    "    ('to_dense', DenseTransformer()),\n",
    "    ('classifier', GaussianNB())                   \n",
    "])"
   ]
  },
  {
   "cell_type": "markdown",
   "metadata": {
    "_uuid": "8707bbc4eb1ad42849c45793ff7c78e6977de6a1"
   },
   "source": [
    "train test split"
   ]
  },
  {
   "cell_type": "code",
   "execution_count": 15,
   "metadata": {
    "_uuid": "c946f692d4c604cb5c0b94d14ad049ae54db140c",
    "execution": {
     "iopub.execute_input": "2021-11-24T07:10:26.219578Z",
     "iopub.status.busy": "2021-11-24T07:10:26.219122Z",
     "iopub.status.idle": "2021-11-24T07:10:26.227193Z",
     "shell.execute_reply": "2021-11-24T07:10:26.226288Z",
     "shell.execute_reply.started": "2021-11-24T07:10:26.219526Z"
    }
   },
   "outputs": [],
   "source": [
    "from sklearn.model_selection import train_test_split\n",
    "x=df['message']\n",
    "y=df['label']\n",
    "x=x.values\n",
    "y=y.values\n",
    "x_train, x_test, y_train, y_test = train_test_split(x,y, test_size=0.20, random_state = 21) #Pareto principle"
   ]
  },
  {
   "cell_type": "markdown",
   "metadata": {
    "_uuid": "ab41b3101572b0a7172e4936d2abd58995ec78b6"
   },
   "source": [
    "**Train spam_filter**"
   ]
  },
  {
   "cell_type": "code",
   "execution_count": 16,
   "metadata": {
    "_uuid": "577d06464b3350f7c40b583818b75d97875205a0",
    "execution": {
     "iopub.execute_input": "2021-11-24T07:10:27.075118Z",
     "iopub.status.busy": "2021-11-24T07:10:27.074736Z",
     "iopub.status.idle": "2021-11-24T07:10:39.760170Z",
     "shell.execute_reply": "2021-11-24T07:10:39.759174Z",
     "shell.execute_reply.started": "2021-11-24T07:10:27.075014Z"
    }
   },
   "outputs": [
    {
     "data": {
      "text/plain": [
       "Pipeline(memory=None,\n",
       "     steps=[('vectorizer', TfidfVectorizer(analyzer=<function pre_process at 0x7faf8c4ac400>,\n",
       "        binary=False, decode_error='strict', dtype=<class 'numpy.float64'>,\n",
       "        encoding='utf-8', input='content', lowercase=True, max_df=1.0,\n",
       "        max_features=None, min_df=1, ngram_range=(1, 1), norm='l...ransformer object at 0x7faf4fee5390>), ('classifier', GaussianNB(priors=None, var_smoothing=1e-09))])"
      ]
     },
     "execution_count": 16,
     "metadata": {},
     "output_type": "execute_result"
    }
   ],
   "source": [
    "spam_filter.fit(x_train, y_train)"
   ]
  },
  {
   "cell_type": "markdown",
   "metadata": {
    "_uuid": "d8278911d15092c3c4b226636bab9c79b4dd310b"
   },
   "source": [
    "**Predict for test cases**"
   ]
  },
  {
   "cell_type": "code",
   "execution_count": 17,
   "metadata": {
    "_uuid": "0591c0c7bb36f033051855728908c2ef0b1fa2f5",
    "execution": {
     "iopub.execute_input": "2021-11-24T07:10:39.761628Z",
     "iopub.status.busy": "2021-11-24T07:10:39.761402Z",
     "iopub.status.idle": "2021-11-24T07:10:43.024963Z",
     "shell.execute_reply": "2021-11-24T07:10:43.023238Z",
     "shell.execute_reply.started": "2021-11-24T07:10:39.761593Z"
    }
   },
   "outputs": [],
   "source": [
    "predictions = spam_filter.predict(x_test)"
   ]
  },
  {
   "cell_type": "code",
   "execution_count": 18,
   "metadata": {
    "_uuid": "0b5dd451d1f1cf5cc1d7548720474bd0293b18b9",
    "execution": {
     "iopub.execute_input": "2021-11-24T07:10:43.026961Z",
     "iopub.status.busy": "2021-11-24T07:10:43.026549Z",
     "iopub.status.idle": "2021-11-24T07:10:43.034807Z",
     "shell.execute_reply": "2021-11-24T07:10:43.033736Z",
     "shell.execute_reply.started": "2021-11-24T07:10:43.026889Z"
    }
   },
   "outputs": [
    {
     "name": "stdout",
     "output_type": "stream",
     "text": [
      "Total number of test cases 1115\n",
      "Number of wrong of predictions 140\n"
     ]
    }
   ],
   "source": [
    "count = 0\n",
    "for i in range(len(y_test)):\n",
    "    if y_test[i] != predictions[i]:\n",
    "        count += 1\n",
    "print('Total number of test cases', len(y_test))\n",
    "print('Number of wrong of predictions', count)"
   ]
  },
  {
   "cell_type": "markdown",
   "metadata": {
    "_uuid": "17916e6ce16c1eee2f3fc765a87b247e8eb008aa"
   },
   "source": [
    "**Check for wrong predictions that were classified as ham**"
   ]
  },
  {
   "cell_type": "code",
   "execution_count": 19,
   "metadata": {
    "_uuid": "4e826b346995dd748e156f21122606458f6c8c7c",
    "execution": {
     "iopub.execute_input": "2021-11-24T07:10:43.036759Z",
     "iopub.status.busy": "2021-11-24T07:10:43.036372Z",
     "iopub.status.idle": "2021-11-24T07:10:43.051116Z",
     "shell.execute_reply": "2021-11-24T07:10:43.049286Z",
     "shell.execute_reply.started": "2021-11-24T07:10:43.036688Z"
    }
   },
   "outputs": [],
   "source": [
    "#x_test[y_test != predictions]"
   ]
  },
  {
   "cell_type": "markdown",
   "metadata": {
    "_uuid": "9493853ec664ba66d1dd3f4b65d3f222f861276c"
   },
   "source": [
    "**Use classification report to get more details**"
   ]
  },
  {
   "cell_type": "code",
   "execution_count": 20,
   "metadata": {
    "_uuid": "cf9b861cfd6e62d284c87d30e9b840c2271b60b2",
    "execution": {
     "iopub.execute_input": "2021-11-24T07:10:43.053391Z",
     "iopub.status.busy": "2021-11-24T07:10:43.053003Z",
     "iopub.status.idle": "2021-11-24T07:10:43.101501Z",
     "shell.execute_reply": "2021-11-24T07:10:43.100430Z",
     "shell.execute_reply.started": "2021-11-24T07:10:43.053329Z"
    }
   },
   "outputs": [
    {
     "name": "stdout",
     "output_type": "stream",
     "text": [
      "              precision    recall  f1-score   support\n",
      "\n",
      "         ham       0.87      0.98      0.92       861\n",
      "        spam       0.91      0.50      0.64       254\n",
      "\n",
      "   micro avg       0.87      0.87      0.87      1115\n",
      "   macro avg       0.89      0.74      0.78      1115\n",
      "weighted avg       0.88      0.87      0.86      1115\n",
      "\n"
     ]
    },
    {
     "data": {
      "text/plain": [
       "0.874439461883408"
      ]
     },
     "execution_count": 20,
     "metadata": {},
     "output_type": "execute_result"
    }
   ],
   "source": [
    "from sklearn.metrics import classification_report\n",
    "from sklearn.metrics import accuracy_score\n",
    "print(classification_report(predictions, y_test))\n",
    "accuracy_score(y_test, predictions)"
   ]
  },
  {
   "cell_type": "markdown",
   "metadata": {
    "_uuid": "0eb6dde3ac2244ebfe7f1ec9bf015719018d899b"
   },
   "source": [
    "Function to predict whether passed message is ham or spam"
   ]
  },
  {
   "cell_type": "code",
   "execution_count": 21,
   "metadata": {
    "_uuid": "f471837c49484f5fbdcd71b21b649c1dd5cf0a02",
    "execution": {
     "iopub.execute_input": "2021-11-24T07:10:43.102990Z",
     "iopub.status.busy": "2021-11-24T07:10:43.102707Z",
     "iopub.status.idle": "2021-11-24T07:10:43.117508Z",
     "shell.execute_reply": "2021-11-24T07:10:43.116574Z",
     "shell.execute_reply.started": "2021-11-24T07:10:43.102938Z"
    }
   },
   "outputs": [
    {
     "data": {
      "text/plain": [
       "'spam'"
      ]
     },
     "execution_count": 21,
     "metadata": {},
     "output_type": "execute_result"
    }
   ],
   "source": [
    "def detect_spam(s):\n",
    "    return spam_filter.predict([s])[0]\n",
    "detect_spam('Your cash-balance is currently 500 pounds - to maximize your cash-in now, send COLLECT to 83600.')"
   ]
  },
  {
   "cell_type": "code",
   "execution_count": 22,
   "metadata": {
    "execution": {
     "iopub.execute_input": "2021-11-24T07:16:55.926648Z",
     "iopub.status.busy": "2021-11-24T07:16:55.926191Z",
     "iopub.status.idle": "2021-11-24T07:16:55.931245Z",
     "shell.execute_reply": "2021-11-24T07:16:55.930284Z",
     "shell.execute_reply.started": "2021-11-24T07:16:55.926605Z"
    }
   },
   "outputs": [],
   "source": [
    "from sklearn.metrics import confusion_matrix"
   ]
  },
  {
   "cell_type": "code",
   "execution_count": 23,
   "metadata": {
    "execution": {
     "iopub.execute_input": "2021-11-24T07:19:08.479348Z",
     "iopub.status.busy": "2021-11-24T07:19:08.478643Z",
     "iopub.status.idle": "2021-11-24T07:19:08.494250Z",
     "shell.execute_reply": "2021-11-24T07:19:08.492784Z",
     "shell.execute_reply.started": "2021-11-24T07:19:08.479281Z"
    }
   },
   "outputs": [
    {
     "data": {
      "text/plain": [
       "array([[848,  13],\n",
       "       [127, 127]])"
      ]
     },
     "execution_count": 23,
     "metadata": {},
     "output_type": "execute_result"
    }
   ],
   "source": [
    "confusion_matrix(predictions,y_test)"
   ]
  },
  {
   "cell_type": "code",
   "execution_count": 24,
   "metadata": {},
   "outputs": [],
   "source": []
  }
 ],
 "metadata": {
  "kernelspec": {
   "display_name": "Python 3",
   "language": "python",
   "name": "python3"
  },
  "language_info": {
   "codemirror_mode": {
    "name": "ipython",
    "version": 3
   },
   "file_extension": ".py",
   "mimetype": "text/x-python",
   "name": "python",
   "nbconvert_exporter": "python",
   "pygments_lexer": "ipython3",
   "version": "3.6.4"
  }
 },
 "nbformat": 4,
 "nbformat_minor": 4
}
