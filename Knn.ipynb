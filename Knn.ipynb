{
  "nbformat": 4,
  "nbformat_minor": 0,
  "metadata": {
    "colab": {
      "name": "Knn.ipynb",
      "provenance": [],
      "collapsed_sections": [],
      "authorship_tag": "ABX9TyM1BEHAy8lMO1kQSj6UBqd0",
      "include_colab_link": true
    },
    "kernelspec": {
      "name": "python3",
      "display_name": "Python 3"
    },
    "language_info": {
      "name": "python"
    }
  },
  "cells": [
    {
      "cell_type": "markdown",
      "metadata": {
        "id": "view-in-github",
        "colab_type": "text"
      },
      "source": [
        "<a href=\"https://colab.research.google.com/github/Agrover112/CC1702-ML-Lab/blob/main/Knn.ipynb\" target=\"_parent\"><img src=\"https://colab.research.google.com/assets/colab-badge.svg\" alt=\"Open In Colab\"/></a>"
      ]
    },
    {
      "cell_type": "code",
      "metadata": {
        "id": "ubUZ0hdPsksE"
      },
      "source": [
        "import pandas as pd\n",
        "import numpy as np\n",
        "import matplotlib.pyplot as plt\n",
        "import seaborn as sns\n",
        "from sklearn.datasets import load_digits\n",
        "from sklearn.neighbors import KNeighborsClassifier\n",
        "from sklearn.metrics import confusion_matrix,classification_report,accuracy_score\n",
        "from sklearn.model_selection import train_test_split, KFold,cross_val_score,StratifiedKFold"
      ],
      "execution_count": 57,
      "outputs": []
    },
    {
      "cell_type": "markdown",
      "metadata": {
        "id": "ZmlZpeFrxOcb"
      },
      "source": [
        "Loading our dataset"
      ]
    },
    {
      "cell_type": "code",
      "metadata": {
        "id": "NkAwv5ZStPDE"
      },
      "source": [
        "digits = load_digits()"
      ],
      "execution_count": 3,
      "outputs": []
    },
    {
      "cell_type": "code",
      "metadata": {
        "id": "RtY-sET6t0vP"
      },
      "source": [
        "n_samples = len(digits.images)\n",
        "\n",
        "X = digits.images.reshape((n_samples, -1))\n",
        "# Getting the already known targets for each image\n",
        "y = digits.target"
      ],
      "execution_count": 4,
      "outputs": []
    },
    {
      "cell_type": "code",
      "metadata": {
        "id": "c8XhkI9Et5ha"
      },
      "source": [
        "def plot_images_sample(X, Y):\n",
        "    # Draw plot for images sample\n",
        "    \n",
        "    plt.figure(figsize=(6,6))\n",
        "    rand_indicies = np.random.randint(len(X), size=25)\n",
        "    for i in range(25):\n",
        "        plt.subplot(5,5,i+1)\n",
        "        plt.xticks([])\n",
        "        plt.yticks([])\n",
        "        plt.grid(False)\n",
        "        index = rand_indicies[i]\n",
        "        plt.imshow(np.squeeze(X[index]), cmap=plt.cm.binary)\n",
        "        plt.xlabel(Y[index])\n",
        "    plt.show()"
      ],
      "execution_count": 17,
      "outputs": []
    },
    {
      "cell_type": "markdown",
      "metadata": {
        "id": "qQzsn8gOxLuU"
      },
      "source": [
        "Visualizing the images in the dataset"
      ]
    },
    {
      "cell_type": "code",
      "metadata": {
        "colab": {
          "base_uri": "https://localhost:8080/",
          "height": 371
        },
        "id": "__2xG-NruDC1",
        "outputId": "6c5bc58a-40fa-4b92-c694-6fa085c54c3b"
      },
      "source": [
        "plot_images_sample(digits.images, y)"
      ],
      "execution_count": 18,
      "outputs": [
        {
          "output_type": "display_data",
          "data": {
            "image/png": "[encoded data removed]",
            "text/plain": [
              "<Figure size 432x432 with 25 Axes>"
            ]
          },
          "metadata": {}
        }
      ]
    },
    {
      "cell_type": "code",
      "metadata": {
        "id": "SJN6rEY6uQGq"
      },
      "source": [
        "X_train, X_test, y_train, y_test = train_test_split(X, y, random_state=0,test_size=0.2)"
      ],
      "execution_count": 33,
      "outputs": []
    },
    {
      "cell_type": "code",
      "metadata": {
        "colab": {
          "base_uri": "https://localhost:8080/"
        },
        "id": "a4r7g29av4BJ",
        "outputId": "dc29bf70-9ca1-4985-d9de-468ef143e9c5"
      },
      "source": [
        "clf = KNeighborsClassifier(n_neighbors=3)\n",
        "# Training model\n",
        "clf.fit(X_train, y_train)"
      ],
      "execution_count": 34,
      "outputs": [
        {
          "output_type": "execute_result",
          "data": {
            "text/plain": [
              "KNeighborsClassifier(n_neighbors=3)"
            ]
          },
          "metadata": {},
          "execution_count": 34
        }
      ]
    },
    {
      "cell_type": "code",
      "metadata": {
        "id": "wwnZYi_8v6Kf"
      },
      "source": [
        "predicted = clf.predict(X_test)"
      ],
      "execution_count": 35,
      "outputs": []
    },
    {
      "cell_type": "code",
      "metadata": {
        "colab": {
          "base_uri": "https://localhost:8080/",
          "height": 283
        },
        "id": "3s6p9Oz_v9IM",
        "outputId": "170771d6-b4cc-4a0b-b420-9da3b58ef715"
      },
      "source": [
        "sns.heatmap(confusion_matrix(y_test, predicted),annot=True)"
      ],
      "execution_count": 36,
      "outputs": [
        {
          "output_type": "execute_result",
          "data": {
            "text/plain": [
              "<matplotlib.axes._subplots.AxesSubplot at 0x7fef87913bd0>"
            ]
          },
          "metadata": {},
          "execution_count": 36
        },
        {
          "output_type": "display_data",
          "data": {
            "image/png": "[encoded data removed]",
            "text/plain": [
              "<Figure size 432x288 with 2 Axes>"
            ]
          },
          "metadata": {
            "needs_background": "light"
          }
        }
      ]
    },
    {
      "cell_type": "markdown",
      "metadata": {
        "id": "hQd1xsCrxB2z"
      },
      "source": [
        "Classification Report"
      ]
    },
    {
      "cell_type": "code",
      "metadata": {
        "colab": {
          "base_uri": "https://localhost:8080/",
          "height": 106
        },
        "id": "jGgVudygwcQc",
        "outputId": "62bddca2-8aa0-4137-b541-0fb6dcac071a"
      },
      "source": [
        "classification_report(y_test,predicted)"
      ],
      "execution_count": 71,
      "outputs": [
        {
          "output_type": "execute_result",
          "data": {
            "application/vnd.google.colaboratory.intrinsic+json": {
              "type": "string"
            },
            "text/plain": [
              "'              precision    recall  f1-score   support\\n\\n           0       1.00      1.00      1.00        27\\n           1       0.95      1.00      0.97        35\\n           2       1.00      0.97      0.99        36\\n           3       0.94      1.00      0.97        29\\n           4       1.00      0.97      0.98        30\\n           5       0.97      0.97      0.97        40\\n           6       1.00      1.00      1.00        44\\n           7       0.93      1.00      0.96        39\\n           8       1.00      0.87      0.93        39\\n           9       0.98      0.98      0.98        41\\n\\n    accuracy                           0.97       360\\n   macro avg       0.98      0.98      0.98       360\\nweighted avg       0.98      0.97      0.97       360\\n'"
            ]
          },
          "metadata": {},
          "execution_count": 71
        }
      ]
    },
    {
      "cell_type": "markdown",
      "metadata": {
        "id": "Wwk1JJaSxAf_"
      },
      "source": [
        "Accuracy Score"
      ]
    },
    {
      "cell_type": "code",
      "metadata": {
        "colab": {
          "base_uri": "https://localhost:8080/"
        },
        "id": "xiVF9eRMwn8x",
        "outputId": "17f86bdf-2cb2-4699-cae5-46ff5390e167"
      },
      "source": [
        "accuracy_score(y_test,predicted)"
      ],
      "execution_count": 38,
      "outputs": [
        {
          "output_type": "execute_result",
          "data": {
            "text/plain": [
              "0.9833333333333333"
            ]
          },
          "metadata": {},
          "execution_count": 38
        }
      ]
    },
    {
      "cell_type": "markdown",
      "metadata": {
        "id": "ReRGJO43xHBC"
      },
      "source": [
        "Visualizing our predicitions"
      ]
    },
    {
      "cell_type": "code",
      "metadata": {
        "colab": {
          "base_uri": "https://localhost:8080/",
          "height": 264
        },
        "id": "9Wez7V31v_Fc",
        "outputId": "3bec15d9-8dd0-4c08-f146-75e87cf74f75"
      },
      "source": [
        "image_with_prediction = list(zip(digits.images, clf.predict(X)))\n",
        "# for first 10 images\n",
        "for pos, (image, prediction) in enumerate(image_with_prediction[:10]):\n",
        "    plt.subplot(3, 4, pos+1) # Create 3x4 grid\n",
        "    plt.axis('off') # no axis\n",
        "    plt.imshow(image, cmap=plt.cm.gray_r) # show image in gray scale\n",
        "    plt.title(\"Prediction: %i\" % prediction) # set title to predicted value\n",
        "plt.show()"
      ],
      "execution_count": 39,
      "outputs": [
        {
          "output_type": "display_data",
          "data": {
            "image/png": "[encoded data removed]",
            "text/plain": [
              "<Figure size 432x288 with 10 Axes>"
            ]
          },
          "metadata": {
            "needs_background": "light"
          }
        }
      ]
    },
    {
      "cell_type": "markdown",
      "metadata": {
        "id": "52z37WGLxT2y"
      },
      "source": [
        "# Testing for different K values"
      ]
    },
    {
      "cell_type": "code",
      "metadata": {
        "id": "ZwYyVRi9walG"
      },
      "source": [
        "acc=[]\n",
        "for K in range(1,10):\n",
        "  clf = KNeighborsClassifier(n_neighbors=K)\n",
        "  clf.fit(X_train, y_train)\n",
        "  predicted = clf.predict(X_test)\n",
        "  acc.append(accuracy_score(y_test,predicted))"
      ],
      "execution_count": 42,
      "outputs": []
    },
    {
      "cell_type": "code",
      "metadata": {
        "colab": {
          "base_uri": "https://localhost:8080/",
          "height": 313
        },
        "id": "2pNLzQYzyV4o",
        "outputId": "4498b07c-61d1-44cd-9328-6537d6c40db3"
      },
      "source": [
        "plt.plot(range(1,10),acc)\n",
        "plt.title(\"Accuracy Score for Different K-Values\")\n",
        "plt.xlabel(\"K-values\")\n",
        "plt.ylabel(\"Accuracy Scores\")"
      ],
      "execution_count": 47,
      "outputs": [
        {
          "output_type": "execute_result",
          "data": {
            "text/plain": [
              "Text(0, 0.5, 'Accuracy Scores')"
            ]
          },
          "metadata": {},
          "execution_count": 47
        },
        {
          "output_type": "display_data",
          "data": {
            "image/png": "[encoded data removed]",
            "text/plain": [
              "<Figure size 432x288 with 1 Axes>"
            ]
          },
          "metadata": {
            "needs_background": "light"
          }
        }
      ]
    },
    {
      "cell_type": "markdown",
      "metadata": {
        "id": "gN1haZT7zMeL"
      },
      "source": [
        "# Now doing K-Fold cross validation"
      ]
    },
    {
      "cell_type": "code",
      "metadata": {
        "colab": {
          "base_uri": "https://localhost:8080/"
        },
        "id": "DsJF38xyzTme",
        "outputId": "8322b443-0324-4925-f6de-cf837ac33933"
      },
      "source": [
        "n_samples"
      ],
      "execution_count": 49,
      "outputs": [
        {
          "output_type": "execute_result",
          "data": {
            "text/plain": [
              "1797"
            ]
          },
          "metadata": {},
          "execution_count": 49
        }
      ]
    },
    {
      "cell_type": "code",
      "metadata": {
        "id": "Z2tNE0I7zW1L"
      },
      "source": [
        "k_fold = StratifiedKFold(10)"
      ],
      "execution_count": 58,
      "outputs": []
    },
    {
      "cell_type": "code",
      "metadata": {
        "id": "15rZOMjL1QEk"
      },
      "source": [
        "cross_val_scores=[]\n",
        "for k in range(1,10):\n",
        "  clf = KNeighborsClassifier(n_neighbors=K)\n",
        "  clf.fit(X_train, y_train)\n",
        "  cross_val_scores.append(cross_val_score(clf, X, y, cv=k_fold,n_jobs=-1).mean())\n",
        "  "
      ],
      "execution_count": 64,
      "outputs": []
    },
    {
      "cell_type": "code",
      "metadata": {
        "colab": {
          "base_uri": "https://localhost:8080/",
          "height": 283
        },
        "id": "bI4egjqm0nuH",
        "outputId": "7530cedc-7597-4364-b93e-5089d6ffb69c"
      },
      "source": [
        "plt.plot(cross_val_scores)"
      ],
      "execution_count": 67,
      "outputs": [
        {
          "output_type": "execute_result",
          "data": {
            "text/plain": [
              "[<matplotlib.lines.Line2D at 0x7fef87331f50>]"
            ]
          },
          "metadata": {},
          "execution_count": 67
        },
        {
          "output_type": "display_data",
          "data": {
            "image/png": "[encoded data removed]",
            "text/plain": [
              "<Figure size 432x288 with 1 Axes>"
            ]
          },
          "metadata": {
            "needs_background": "light"
          }
        }
      ]
    },
    {
      "cell_type": "markdown",
      "metadata": {
        "id": "RGOgerkl29ZC"
      },
      "source": [
        "Thus, as can be seen from cross-validation and accuracy-scores value of K=3 was the best which we already chose."
      ]
    }
  ]
}