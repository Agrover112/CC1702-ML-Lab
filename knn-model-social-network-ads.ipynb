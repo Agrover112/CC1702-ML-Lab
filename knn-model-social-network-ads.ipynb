{
 "cells": [
  {
   "cell_type": "code",
   "execution_count": 1,
   "id": "binding-albania",
   "metadata": {
    "execution": {
     "iopub.execute_input": "2021-11-25T07:42:45.661673Z",
     "iopub.status.busy": "2021-11-25T07:42:45.661118Z",
     "iopub.status.idle": "2021-11-25T07:42:45.712351Z",
     "shell.execute_reply": "2021-11-25T07:42:45.711602Z",
     "shell.execute_reply.started": "2021-11-25T07:41:34.922498Z"
    },
    "papermill": {
     "duration": 0.077919,
     "end_time": "2021-11-25T07:42:45.712523",
     "exception": false,
     "start_time": "2021-11-25T07:42:45.634604",
     "status": "completed"
    },
    "tags": []
   },
   "outputs": [
    {
     "data": {
      "text/html": [
       "<div>\n",
       "<style scoped>\n",
       "    .dataframe tbody tr th:only-of-type {\n",
       "        vertical-align: middle;\n",
       "    }\n",
       "\n",
       "    .dataframe tbody tr th {\n",
       "        vertical-align: top;\n",
       "    }\n",
       "\n",
       "    .dataframe thead th {\n",
       "        text-align: right;\n",
       "    }\n",
       "</style>\n",
       "<table border=\"1\" class=\"dataframe\">\n",
       "  <thead>\n",
       "    <tr style=\"text-align: right;\">\n",
       "      <th></th>\n",
       "      <th>User ID</th>\n",
       "      <th>Gender</th>\n",
       "      <th>Age</th>\n",
       "      <th>EstimatedSalary</th>\n",
       "      <th>Purchased</th>\n",
       "    </tr>\n",
       "  </thead>\n",
       "  <tbody>\n",
       "    <tr>\n",
       "      <th>0</th>\n",
       "      <td>15624510</td>\n",
       "      <td>Male</td>\n",
       "      <td>19</td>\n",
       "      <td>19000</td>\n",
       "      <td>0</td>\n",
       "    </tr>\n",
       "    <tr>\n",
       "      <th>1</th>\n",
       "      <td>15810944</td>\n",
       "      <td>Male</td>\n",
       "      <td>35</td>\n",
       "      <td>20000</td>\n",
       "      <td>0</td>\n",
       "    </tr>\n",
       "    <tr>\n",
       "      <th>2</th>\n",
       "      <td>15668575</td>\n",
       "      <td>Female</td>\n",
       "      <td>26</td>\n",
       "      <td>43000</td>\n",
       "      <td>0</td>\n",
       "    </tr>\n",
       "    <tr>\n",
       "      <th>3</th>\n",
       "      <td>15603246</td>\n",
       "      <td>Female</td>\n",
       "      <td>27</td>\n",
       "      <td>57000</td>\n",
       "      <td>0</td>\n",
       "    </tr>\n",
       "    <tr>\n",
       "      <th>4</th>\n",
       "      <td>15804002</td>\n",
       "      <td>Male</td>\n",
       "      <td>19</td>\n",
       "      <td>76000</td>\n",
       "      <td>0</td>\n",
       "    </tr>\n",
       "  </tbody>\n",
       "</table>\n",
       "</div>"
      ],
      "text/plain": [
       "    User ID  Gender  Age  EstimatedSalary  Purchased\n",
       "0  15624510    Male   19            19000          0\n",
       "1  15810944    Male   35            20000          0\n",
       "2  15668575  Female   26            43000          0\n",
       "3  15603246  Female   27            57000          0\n",
       "4  15804002    Male   19            76000          0"
      ]
     },
     "execution_count": 1,
     "metadata": {},
     "output_type": "execute_result"
    }
   ],
   "source": [
    "import pandas as pd\n",
    "import matplotlib.pyplot as plt\n",
    "\n",
    "df=pd.read_csv('/kaggle/input/social-network-ads/Social_Network_Ads.csv')\n",
    "df.head()"
   ]
  },
  {
   "cell_type": "markdown",
   "id": "insured-motel",
   "metadata": {
    "papermill": {
     "duration": 0.02012,
     "end_time": "2021-11-25T07:42:45.753409",
     "exception": false,
     "start_time": "2021-11-25T07:42:45.733289",
     "status": "completed"
    },
    "tags": []
   },
   "source": [
    "### Exploratory Data Analysis"
   ]
  },
  {
   "cell_type": "code",
   "execution_count": 2,
   "id": "artistic-money",
   "metadata": {
    "execution": {
     "iopub.execute_input": "2021-11-25T07:42:45.807891Z",
     "iopub.status.busy": "2021-11-25T07:42:45.803965Z",
     "iopub.status.idle": "2021-11-25T07:42:45.839559Z",
     "shell.execute_reply": "2021-11-25T07:42:45.838841Z",
     "shell.execute_reply.started": "2021-11-25T07:41:35.217327Z"
    },
    "papermill": {
     "duration": 0.063648,
     "end_time": "2021-11-25T07:42:45.839735",
     "exception": false,
     "start_time": "2021-11-25T07:42:45.776087",
     "status": "completed"
    },
    "tags": []
   },
   "outputs": [
    {
     "name": "stdout",
     "output_type": "stream",
     "text": [
      "(400, 5)\n",
      "            User ID         Age  EstimatedSalary   Purchased\n",
      "count  4.000000e+02  400.000000       400.000000  400.000000\n",
      "mean   1.569154e+07   37.655000     69742.500000    0.357500\n",
      "std    7.165832e+04   10.482877     34096.960282    0.479864\n",
      "min    1.556669e+07   18.000000     15000.000000    0.000000\n",
      "25%    1.562676e+07   29.750000     43000.000000    0.000000\n",
      "50%    1.569434e+07   37.000000     70000.000000    0.000000\n",
      "75%    1.575036e+07   46.000000     88000.000000    1.000000\n",
      "max    1.581524e+07   60.000000    150000.000000    1.000000\n",
      "<class 'pandas.core.frame.DataFrame'>\n",
      "RangeIndex: 400 entries, 0 to 399\n",
      "Data columns (total 5 columns):\n",
      " #   Column           Non-Null Count  Dtype \n",
      "---  ------           --------------  ----- \n",
      " 0   User ID          400 non-null    int64 \n",
      " 1   Gender           400 non-null    object\n",
      " 2   Age              400 non-null    int64 \n",
      " 3   EstimatedSalary  400 non-null    int64 \n",
      " 4   Purchased        400 non-null    int64 \n",
      "dtypes: int64(4), object(1)\n",
      "memory usage: 15.8+ KB\n",
      "None\n"
     ]
    }
   ],
   "source": [
    "#data description\n",
    "print(df.shape)\n",
    "print(df.describe())\n",
    "print(df.info())"
   ]
  },
  {
   "cell_type": "code",
   "execution_count": 3,
   "id": "resistant-allergy",
   "metadata": {
    "execution": {
     "iopub.execute_input": "2021-11-25T07:42:45.896169Z",
     "iopub.status.busy": "2021-11-25T07:42:45.891919Z",
     "iopub.status.idle": "2021-11-25T07:42:45.900532Z",
     "shell.execute_reply": "2021-11-25T07:42:45.899918Z",
     "shell.execute_reply.started": "2021-11-25T07:41:35.360971Z"
    },
    "papermill": {
     "duration": 0.039069,
     "end_time": "2021-11-25T07:42:45.900675",
     "exception": false,
     "start_time": "2021-11-25T07:42:45.861606",
     "status": "completed"
    },
    "tags": []
   },
   "outputs": [
    {
     "name": "stdout",
     "output_type": "stream",
     "text": [
      "Female    204\n",
      "Male      196\n",
      "Name: Gender, dtype: int64\n",
      "\n",
      "Number of duplicates are 0\n",
      "\n",
      "User ID            0\n",
      "Gender             0\n",
      "Age                0\n",
      "EstimatedSalary    0\n",
      "Purchased          0\n",
      "dtype: int64\n"
     ]
    }
   ],
   "source": [
    "#checking the types of gender\n",
    "print(\"{}\".format(df.Gender.value_counts()),end='\\n\\n')\n",
    "#checking duplicates\n",
    "print(\"Number of duplicates are {}\".format(df.duplicated().sum()),end='\\n\\n')\n",
    "#checking the number of null values\n",
    "print(df.isna().sum())\n"
   ]
  },
  {
   "cell_type": "code",
   "execution_count": 4,
   "id": "early-acrobat",
   "metadata": {
    "execution": {
     "iopub.execute_input": "2021-11-25T07:42:45.947186Z",
     "iopub.status.busy": "2021-11-25T07:42:45.946471Z",
     "iopub.status.idle": "2021-11-25T07:42:47.238369Z",
     "shell.execute_reply": "2021-11-25T07:42:47.237703Z",
     "shell.execute_reply.started": "2021-11-25T07:41:35.498310Z"
    },
    "papermill": {
     "duration": 1.317045,
     "end_time": "2021-11-25T07:42:47.238523",
     "exception": false,
     "start_time": "2021-11-25T07:42:45.921478",
     "status": "completed"
    },
    "tags": []
   },
   "outputs": [
    {
     "data": {
      "text/plain": [
       "<seaborn.axisgrid.FacetGrid at 0x7f36c1901e50>"
      ]
     },
     "execution_count": 4,
     "metadata": {},
     "output_type": "execute_result"
    },
    {
     "data": {
      "image/png": "[encoded data removed]",
      "text/plain": [
       "<Figure size 360x360 with 1 Axes>"
      ]
     },
     "metadata": {
      "needs_background": "light"
     },
     "output_type": "display_data"
    }
   ],
   "source": [
    "\n",
    "import seaborn as sns\n",
    "\n",
    "sns.displot(df.EstimatedSalary,kind='hist',kde=True)"
   ]
  },
  {
   "cell_type": "code",
   "execution_count": 5,
   "id": "military-wellington",
   "metadata": {
    "execution": {
     "iopub.execute_input": "2021-11-25T07:42:47.288562Z",
     "iopub.status.busy": "2021-11-25T07:42:47.287684Z",
     "iopub.status.idle": "2021-11-25T07:42:47.459860Z",
     "shell.execute_reply": "2021-11-25T07:42:47.460467Z",
     "shell.execute_reply.started": "2021-11-25T07:41:36.235270Z"
    },
    "papermill": {
     "duration": 0.198756,
     "end_time": "2021-11-25T07:42:47.460659",
     "exception": false,
     "start_time": "2021-11-25T07:42:47.261903",
     "status": "completed"
    },
    "tags": []
   },
   "outputs": [
    {
     "data": {
      "text/plain": [
       "<AxesSubplot:xlabel='Gender', ylabel='EstimatedSalary'>"
      ]
     },
     "execution_count": 5,
     "metadata": {},
     "output_type": "execute_result"
    },
    {
     "data": {
      "image/png": "[encoded data removed]",
      "text/plain": [
       "<Figure size 432x288 with 1 Axes>"
      ]
     },
     "metadata": {
      "needs_background": "light"
     },
     "output_type": "display_data"
    }
   ],
   "source": [
    "sns.barplot(x=df.Gender,y=df.EstimatedSalary)\n"
   ]
  },
  {
   "cell_type": "code",
   "execution_count": 6,
   "id": "downtown-cooking",
   "metadata": {
    "execution": {
     "iopub.execute_input": "2021-11-25T07:42:47.510415Z",
     "iopub.status.busy": "2021-11-25T07:42:47.509776Z",
     "iopub.status.idle": "2021-11-25T07:42:47.890220Z",
     "shell.execute_reply": "2021-11-25T07:42:47.888894Z",
     "shell.execute_reply.started": "2021-11-25T07:41:36.445623Z"
    },
    "papermill": {
     "duration": 0.406819,
     "end_time": "2021-11-25T07:42:47.890413",
     "exception": false,
     "start_time": "2021-11-25T07:42:47.483594",
     "status": "completed"
    },
    "tags": []
   },
   "outputs": [
    {
     "data": {
      "text/plain": [
       "<seaborn.axisgrid.FacetGrid at 0x7f36b0bfc710>"
      ]
     },
     "execution_count": 6,
     "metadata": {},
     "output_type": "execute_result"
    },
    {
     "data": {
      "image/png": "[encoded data removed]",
      "text/plain": [
       "<Figure size 432.125x360 with 1 Axes>"
      ]
     },
     "metadata": {
      "needs_background": "light"
     },
     "output_type": "display_data"
    }
   ],
   "source": [
    "sns.displot(data=df, x=\"EstimatedSalary\", hue=\"Gender\", kind=\"kde\")"
   ]
  },
  {
   "cell_type": "code",
   "execution_count": 7,
   "id": "outstanding-physics",
   "metadata": {
    "execution": {
     "iopub.execute_input": "2021-11-25T07:42:47.941602Z",
     "iopub.status.busy": "2021-11-25T07:42:47.940866Z",
     "iopub.status.idle": "2021-11-25T07:42:47.950209Z",
     "shell.execute_reply": "2021-11-25T07:42:47.950714Z",
     "shell.execute_reply.started": "2021-11-25T07:41:36.764100Z"
    },
    "papermill": {
     "duration": 0.036432,
     "end_time": "2021-11-25T07:42:47.950903",
     "exception": false,
     "start_time": "2021-11-25T07:42:47.914471",
     "status": "completed"
    },
    "tags": []
   },
   "outputs": [
    {
     "data": {
      "text/plain": [
       "count       204.000000\n",
       "mean      71759.803922\n",
       "std       35595.236189\n",
       "min       15000.000000\n",
       "25%       44000.000000\n",
       "50%       70500.000000\n",
       "75%       90750.000000\n",
       "max      150000.000000\n",
       "Name: EstimatedSalary, dtype: float64"
      ]
     },
     "execution_count": 7,
     "metadata": {},
     "output_type": "execute_result"
    }
   ],
   "source": [
    "df[df.Gender=='Female'].EstimatedSalary.describe()"
   ]
  },
  {
   "cell_type": "code",
   "execution_count": 8,
   "id": "compatible-position",
   "metadata": {
    "execution": {
     "iopub.execute_input": "2021-11-25T07:42:48.003664Z",
     "iopub.status.busy": "2021-11-25T07:42:48.002986Z",
     "iopub.status.idle": "2021-11-25T07:42:48.012844Z",
     "shell.execute_reply": "2021-11-25T07:42:48.013436Z",
     "shell.execute_reply.started": "2021-11-25T07:41:36.782134Z"
    },
    "papermill": {
     "duration": 0.03804,
     "end_time": "2021-11-25T07:42:48.013614",
     "exception": false,
     "start_time": "2021-11-25T07:42:47.975574",
     "status": "completed"
    },
    "tags": []
   },
   "outputs": [
    {
     "data": {
      "text/plain": [
       "count       196.000000\n",
       "mean      67642.857143\n",
       "std       32421.819181\n",
       "min       15000.000000\n",
       "25%       43000.000000\n",
       "50%       68000.000000\n",
       "75%       86000.000000\n",
       "max      150000.000000\n",
       "Name: EstimatedSalary, dtype: float64"
      ]
     },
     "execution_count": 8,
     "metadata": {},
     "output_type": "execute_result"
    }
   ],
   "source": [
    "\n",
    "df[df.Gender=='Male'].EstimatedSalary.describe()"
   ]
  },
  {
   "cell_type": "markdown",
   "id": "impaired-stage",
   "metadata": {
    "papermill": {
     "duration": 0.033315,
     "end_time": "2021-11-25T07:42:48.081373",
     "exception": false,
     "start_time": "2021-11-25T07:42:48.048058",
     "status": "completed"
    },
    "tags": []
   },
   "source": [
    "We can see that in the dataset there are slightly more more females than males with salary>100000,\n",
    "also on an average the Females in this dataset seem to be earning more than men.\n",
    "Also this can be explained due to MORE Females than Men, although the std.dev for men is lower which indicates slightly larger salary ranges and more females as well. REFER above graphs"
   ]
  },
  {
   "cell_type": "markdown",
   "id": "boring-ratio",
   "metadata": {
    "papermill": {
     "duration": 0.035365,
     "end_time": "2021-11-25T07:42:48.149261",
     "exception": false,
     "start_time": "2021-11-25T07:42:48.113896",
     "status": "completed"
    },
    "tags": []
   },
   "source": [
    "View which gender purchases or did not purchase"
   ]
  },
  {
   "cell_type": "code",
   "execution_count": 9,
   "id": "superb-billy",
   "metadata": {
    "execution": {
     "iopub.execute_input": "2021-11-25T07:42:48.214872Z",
     "iopub.status.busy": "2021-11-25T07:42:48.213283Z",
     "iopub.status.idle": "2021-11-25T07:42:48.242121Z",
     "shell.execute_reply": "2021-11-25T07:42:48.241404Z",
     "shell.execute_reply.started": "2021-11-25T07:41:36.799208Z"
    },
    "papermill": {
     "duration": 0.058559,
     "end_time": "2021-11-25T07:42:48.242280",
     "exception": false,
     "start_time": "2021-11-25T07:42:48.183721",
     "status": "completed"
    },
    "tags": []
   },
   "outputs": [
    {
     "data": {
      "text/html": [
       "<div>\n",
       "<style scoped>\n",
       "    .dataframe tbody tr th:only-of-type {\n",
       "        vertical-align: middle;\n",
       "    }\n",
       "\n",
       "    .dataframe tbody tr th {\n",
       "        vertical-align: top;\n",
       "    }\n",
       "\n",
       "    .dataframe thead th {\n",
       "        text-align: right;\n",
       "    }\n",
       "</style>\n",
       "<table border=\"1\" class=\"dataframe\">\n",
       "  <thead>\n",
       "    <tr style=\"text-align: right;\">\n",
       "      <th>Purchased</th>\n",
       "      <th>0</th>\n",
       "      <th>1</th>\n",
       "    </tr>\n",
       "    <tr>\n",
       "      <th>Gender</th>\n",
       "      <th></th>\n",
       "      <th></th>\n",
       "    </tr>\n",
       "  </thead>\n",
       "  <tbody>\n",
       "    <tr>\n",
       "      <th>Female</th>\n",
       "      <td>127</td>\n",
       "      <td>77</td>\n",
       "    </tr>\n",
       "    <tr>\n",
       "      <th>Male</th>\n",
       "      <td>130</td>\n",
       "      <td>66</td>\n",
       "    </tr>\n",
       "  </tbody>\n",
       "</table>\n",
       "</div>"
      ],
      "text/plain": [
       "Purchased    0   1\n",
       "Gender            \n",
       "Female     127  77\n",
       "Male       130  66"
      ]
     },
     "execution_count": 9,
     "metadata": {},
     "output_type": "execute_result"
    }
   ],
   "source": [
    "\n",
    "pd.crosstab(df.Gender,df.Purchased)\n"
   ]
  },
  {
   "cell_type": "markdown",
   "id": "strange-blues",
   "metadata": {
    "papermill": {
     "duration": 0.026943,
     "end_time": "2021-11-25T07:42:48.298498",
     "exception": false,
     "start_time": "2021-11-25T07:42:48.271555",
     "status": "completed"
    },
    "tags": []
   },
   "source": [
    "Male are more likely to purchase compare to Female's."
   ]
  },
  {
   "cell_type": "markdown",
   "id": "atmospheric-wesley",
   "metadata": {
    "papermill": {
     "duration": 0.028243,
     "end_time": "2021-11-25T07:42:48.355030",
     "exception": false,
     "start_time": "2021-11-25T07:42:48.326787",
     "status": "completed"
    },
    "tags": []
   },
   "source": [
    "Analysis:\n",
    "The entire analysis on the sample data states  that, women are earning little more than men here and their purchase count is higher too.\n",
    "The salary is almost normally  distributed ."
   ]
  },
  {
   "cell_type": "code",
   "execution_count": 10,
   "id": "daily-livestock",
   "metadata": {
    "execution": {
     "iopub.execute_input": "2021-11-25T07:42:48.416233Z",
     "iopub.status.busy": "2021-11-25T07:42:48.415504Z",
     "iopub.status.idle": "2021-11-25T07:42:48.424269Z",
     "shell.execute_reply": "2021-11-25T07:42:48.424771Z",
     "shell.execute_reply.started": "2021-11-25T07:41:36.832485Z"
    },
    "papermill": {
     "duration": 0.040807,
     "end_time": "2021-11-25T07:42:48.424969",
     "exception": false,
     "start_time": "2021-11-25T07:42:48.384162",
     "status": "completed"
    },
    "tags": []
   },
   "outputs": [],
   "source": [
    "#creating dummies for One Hot Encoding\n",
    "df1=pd.get_dummies(data=df,columns=['Gender'],drop_first=True)"
   ]
  },
  {
   "cell_type": "code",
   "execution_count": 11,
   "id": "lucky-needle",
   "metadata": {
    "execution": {
     "iopub.execute_input": "2021-11-25T07:42:48.482343Z",
     "iopub.status.busy": "2021-11-25T07:42:48.481525Z",
     "iopub.status.idle": "2021-11-25T07:42:48.494288Z",
     "shell.execute_reply": "2021-11-25T07:42:48.494802Z",
     "shell.execute_reply.started": "2021-11-25T07:41:37.428600Z"
    },
    "papermill": {
     "duration": 0.042843,
     "end_time": "2021-11-25T07:42:48.495021",
     "exception": false,
     "start_time": "2021-11-25T07:42:48.452178",
     "status": "completed"
    },
    "tags": []
   },
   "outputs": [
    {
     "data": {
      "text/html": [
       "<div>\n",
       "<style scoped>\n",
       "    .dataframe tbody tr th:only-of-type {\n",
       "        vertical-align: middle;\n",
       "    }\n",
       "\n",
       "    .dataframe tbody tr th {\n",
       "        vertical-align: top;\n",
       "    }\n",
       "\n",
       "    .dataframe thead th {\n",
       "        text-align: right;\n",
       "    }\n",
       "</style>\n",
       "<table border=\"1\" class=\"dataframe\">\n",
       "  <thead>\n",
       "    <tr style=\"text-align: right;\">\n",
       "      <th></th>\n",
       "      <th>User ID</th>\n",
       "      <th>Age</th>\n",
       "      <th>EstimatedSalary</th>\n",
       "      <th>Purchased</th>\n",
       "      <th>Gender_Male</th>\n",
       "    </tr>\n",
       "  </thead>\n",
       "  <tbody>\n",
       "    <tr>\n",
       "      <th>0</th>\n",
       "      <td>15624510</td>\n",
       "      <td>19</td>\n",
       "      <td>19000</td>\n",
       "      <td>0</td>\n",
       "      <td>1</td>\n",
       "    </tr>\n",
       "    <tr>\n",
       "      <th>1</th>\n",
       "      <td>15810944</td>\n",
       "      <td>35</td>\n",
       "      <td>20000</td>\n",
       "      <td>0</td>\n",
       "      <td>1</td>\n",
       "    </tr>\n",
       "    <tr>\n",
       "      <th>2</th>\n",
       "      <td>15668575</td>\n",
       "      <td>26</td>\n",
       "      <td>43000</td>\n",
       "      <td>0</td>\n",
       "      <td>0</td>\n",
       "    </tr>\n",
       "    <tr>\n",
       "      <th>3</th>\n",
       "      <td>15603246</td>\n",
       "      <td>27</td>\n",
       "      <td>57000</td>\n",
       "      <td>0</td>\n",
       "      <td>0</td>\n",
       "    </tr>\n",
       "    <tr>\n",
       "      <th>4</th>\n",
       "      <td>15804002</td>\n",
       "      <td>19</td>\n",
       "      <td>76000</td>\n",
       "      <td>0</td>\n",
       "      <td>1</td>\n",
       "    </tr>\n",
       "    <tr>\n",
       "      <th>...</th>\n",
       "      <td>...</td>\n",
       "      <td>...</td>\n",
       "      <td>...</td>\n",
       "      <td>...</td>\n",
       "      <td>...</td>\n",
       "    </tr>\n",
       "    <tr>\n",
       "      <th>395</th>\n",
       "      <td>15691863</td>\n",
       "      <td>46</td>\n",
       "      <td>41000</td>\n",
       "      <td>1</td>\n",
       "      <td>0</td>\n",
       "    </tr>\n",
       "    <tr>\n",
       "      <th>396</th>\n",
       "      <td>15706071</td>\n",
       "      <td>51</td>\n",
       "      <td>23000</td>\n",
       "      <td>1</td>\n",
       "      <td>1</td>\n",
       "    </tr>\n",
       "    <tr>\n",
       "      <th>397</th>\n",
       "      <td>15654296</td>\n",
       "      <td>50</td>\n",
       "      <td>20000</td>\n",
       "      <td>1</td>\n",
       "      <td>0</td>\n",
       "    </tr>\n",
       "    <tr>\n",
       "      <th>398</th>\n",
       "      <td>15755018</td>\n",
       "      <td>36</td>\n",
       "      <td>33000</td>\n",
       "      <td>0</td>\n",
       "      <td>1</td>\n",
       "    </tr>\n",
       "    <tr>\n",
       "      <th>399</th>\n",
       "      <td>15594041</td>\n",
       "      <td>49</td>\n",
       "      <td>36000</td>\n",
       "      <td>1</td>\n",
       "      <td>0</td>\n",
       "    </tr>\n",
       "  </tbody>\n",
       "</table>\n",
       "<p>400 rows × 5 columns</p>\n",
       "</div>"
      ],
      "text/plain": [
       "      User ID  Age  EstimatedSalary  Purchased  Gender_Male\n",
       "0    15624510   19            19000          0            1\n",
       "1    15810944   35            20000          0            1\n",
       "2    15668575   26            43000          0            0\n",
       "3    15603246   27            57000          0            0\n",
       "4    15804002   19            76000          0            1\n",
       "..        ...  ...              ...        ...          ...\n",
       "395  15691863   46            41000          1            0\n",
       "396  15706071   51            23000          1            1\n",
       "397  15654296   50            20000          1            0\n",
       "398  15755018   36            33000          0            1\n",
       "399  15594041   49            36000          1            0\n",
       "\n",
       "[400 rows x 5 columns]"
      ]
     },
     "execution_count": 11,
     "metadata": {},
     "output_type": "execute_result"
    }
   ],
   "source": [
    "df1"
   ]
  },
  {
   "cell_type": "code",
   "execution_count": 12,
   "id": "headed-burlington",
   "metadata": {
    "execution": {
     "iopub.execute_input": "2021-11-25T07:42:48.562053Z",
     "iopub.status.busy": "2021-11-25T07:42:48.561317Z",
     "iopub.status.idle": "2021-11-25T07:42:48.567504Z",
     "shell.execute_reply": "2021-11-25T07:42:48.568193Z",
     "shell.execute_reply.started": "2021-11-25T07:41:37.608805Z"
    },
    "papermill": {
     "duration": 0.045463,
     "end_time": "2021-11-25T07:42:48.568502",
     "exception": false,
     "start_time": "2021-11-25T07:42:48.523039",
     "status": "completed"
    },
    "tags": []
   },
   "outputs": [],
   "source": [
    " #No need for User Id and Purchased in X\n",
    "x=df1.drop(columns=['User ID','Purchased'])\n",
    "y=df1.Purchased"
   ]
  },
  {
   "cell_type": "code",
   "execution_count": 13,
   "id": "cognitive-stanley",
   "metadata": {
    "execution": {
     "iopub.execute_input": "2021-11-25T07:42:48.635488Z",
     "iopub.status.busy": "2021-11-25T07:42:48.633958Z",
     "iopub.status.idle": "2021-11-25T07:42:48.896914Z",
     "shell.execute_reply": "2021-11-25T07:42:48.896243Z",
     "shell.execute_reply.started": "2021-11-25T07:41:37.747926Z"
    },
    "papermill": {
     "duration": 0.29572,
     "end_time": "2021-11-25T07:42:48.897107",
     "exception": false,
     "start_time": "2021-11-25T07:42:48.601387",
     "status": "completed"
    },
    "tags": []
   },
   "outputs": [],
   "source": [
    "#Splitting the dat into train and test\n",
    "from sklearn.model_selection import train_test_split\n",
    "x_train,x_test,y_train,y_test=train_test_split(x,y,random_state=10,test_size=.3)"
   ]
  },
  {
   "cell_type": "code",
   "execution_count": 14,
   "id": "weekly-accountability",
   "metadata": {
    "execution": {
     "iopub.execute_input": "2021-11-25T07:42:48.955038Z",
     "iopub.status.busy": "2021-11-25T07:42:48.954412Z",
     "iopub.status.idle": "2021-11-25T07:42:49.151778Z",
     "shell.execute_reply": "2021-11-25T07:42:49.151159Z",
     "shell.execute_reply.started": "2021-11-25T07:41:37.866105Z"
    },
    "papermill": {
     "duration": 0.227158,
     "end_time": "2021-11-25T07:42:49.151918",
     "exception": false,
     "start_time": "2021-11-25T07:42:48.924760",
     "status": "completed"
    },
    "tags": []
   },
   "outputs": [],
   "source": [
    "#Standerizing the data and creating a KNN model \n",
    "# Pipeline is used to process multiple steps together in this case both standerization and KNN estimator object creation is done at the same time.\n",
    "from sklearn.preprocessing import StandardScaler\n",
    "from sklearn.neighbors import KNeighborsClassifier\n",
    "from sklearn.pipeline import Pipeline\n",
    "model_steps=[('Standerise',StandardScaler()),('shipModel',KNeighborsClassifier(n_neighbors=4,metric='minkowski',p=2))]# THis is basically euclidean metric"
   ]
  },
  {
   "cell_type": "code",
   "execution_count": 15,
   "id": "ancient-sweet",
   "metadata": {
    "execution": {
     "iopub.execute_input": "2021-11-25T07:42:49.212377Z",
     "iopub.status.busy": "2021-11-25T07:42:49.211349Z",
     "iopub.status.idle": "2021-11-25T07:42:49.224002Z",
     "shell.execute_reply": "2021-11-25T07:42:49.223179Z",
     "shell.execute_reply.started": "2021-11-25T07:41:38.004690Z"
    },
    "papermill": {
     "duration": 0.045632,
     "end_time": "2021-11-25T07:42:49.224167",
     "exception": false,
     "start_time": "2021-11-25T07:42:49.178535",
     "status": "completed"
    },
    "tags": []
   },
   "outputs": [
    {
     "data": {
      "text/plain": [
       "Pipeline(steps=[('Standerise', StandardScaler()),\n",
       "                ('shipModel', KNeighborsClassifier(n_neighbors=4))])"
      ]
     },
     "execution_count": 15,
     "metadata": {},
     "output_type": "execute_result"
    }
   ],
   "source": [
    "#Fitting the model\n",
    "pipelineModel=Pipeline(steps=model_steps)\n",
    "pipelineModel.fit(x_train,y_train)"
   ]
  },
  {
   "cell_type": "code",
   "execution_count": 16,
   "id": "resistant-latvia",
   "metadata": {
    "execution": {
     "iopub.execute_input": "2021-11-25T07:42:49.288277Z",
     "iopub.status.busy": "2021-11-25T07:42:49.287607Z",
     "iopub.status.idle": "2021-11-25T07:42:49.302846Z",
     "shell.execute_reply": "2021-11-25T07:42:49.303607Z",
     "shell.execute_reply.started": "2021-11-25T07:41:38.137910Z"
    },
    "papermill": {
     "duration": 0.05144,
     "end_time": "2021-11-25T07:42:49.303789",
     "exception": false,
     "start_time": "2021-11-25T07:42:49.252349",
     "status": "completed"
    },
    "tags": []
   },
   "outputs": [
    {
     "data": {
      "text/plain": [
       "0.9142857142857143"
      ]
     },
     "execution_count": 16,
     "metadata": {},
     "output_type": "execute_result"
    }
   ],
   "source": [
    "#Model score for train data\n",
    "pipelineModel.score(x_train,y_train)"
   ]
  },
  {
   "cell_type": "code",
   "execution_count": 17,
   "id": "unnecessary-convergence",
   "metadata": {
    "execution": {
     "iopub.execute_input": "2021-11-25T07:42:49.366066Z",
     "iopub.status.busy": "2021-11-25T07:42:49.365358Z",
     "iopub.status.idle": "2021-11-25T07:42:49.376028Z",
     "shell.execute_reply": "2021-11-25T07:42:49.376559Z",
     "shell.execute_reply.started": "2021-11-25T07:41:38.249362Z"
    },
    "papermill": {
     "duration": 0.045112,
     "end_time": "2021-11-25T07:42:49.376737",
     "exception": false,
     "start_time": "2021-11-25T07:42:49.331625",
     "status": "completed"
    },
    "tags": []
   },
   "outputs": [
    {
     "data": {
      "text/plain": [
       "0.9166666666666666"
      ]
     },
     "execution_count": 17,
     "metadata": {},
     "output_type": "execute_result"
    }
   ],
   "source": [
    "#Model score on test data\n",
    "pipelineModel.score(x_test,y_test)"
   ]
  },
  {
   "cell_type": "code",
   "execution_count": 18,
   "id": "modular-society",
   "metadata": {
    "execution": {
     "iopub.execute_input": "2021-11-25T07:42:49.443456Z",
     "iopub.status.busy": "2021-11-25T07:42:49.442758Z",
     "iopub.status.idle": "2021-11-25T07:42:49.469334Z",
     "shell.execute_reply": "2021-11-25T07:42:49.468751Z",
     "shell.execute_reply.started": "2021-11-25T07:41:38.383291Z"
    },
    "papermill": {
     "duration": 0.065532,
     "end_time": "2021-11-25T07:42:49.469492",
     "exception": false,
     "start_time": "2021-11-25T07:42:49.403960",
     "status": "completed"
    },
    "tags": []
   },
   "outputs": [
    {
     "data": {
      "text/html": [
       "<div>\n",
       "<style scoped>\n",
       "    .dataframe tbody tr th:only-of-type {\n",
       "        vertical-align: middle;\n",
       "    }\n",
       "\n",
       "    .dataframe tbody tr th {\n",
       "        vertical-align: top;\n",
       "    }\n",
       "\n",
       "    .dataframe thead th {\n",
       "        text-align: right;\n",
       "    }\n",
       "</style>\n",
       "<table border=\"1\" class=\"dataframe\">\n",
       "  <thead>\n",
       "    <tr style=\"text-align: right;\">\n",
       "      <th>col_0</th>\n",
       "      <th>0</th>\n",
       "      <th>1</th>\n",
       "    </tr>\n",
       "    <tr>\n",
       "      <th>Purchased</th>\n",
       "      <th></th>\n",
       "      <th></th>\n",
       "    </tr>\n",
       "  </thead>\n",
       "  <tbody>\n",
       "    <tr>\n",
       "      <th>0</th>\n",
       "      <td>76</td>\n",
       "      <td>7</td>\n",
       "    </tr>\n",
       "    <tr>\n",
       "      <th>1</th>\n",
       "      <td>3</td>\n",
       "      <td>34</td>\n",
       "    </tr>\n",
       "  </tbody>\n",
       "</table>\n",
       "</div>"
      ],
      "text/plain": [
       "col_0       0   1\n",
       "Purchased        \n",
       "0          76   7\n",
       "1           3  34"
      ]
     },
     "execution_count": 18,
     "metadata": {},
     "output_type": "execute_result"
    }
   ],
   "source": [
    "#Evaluating the model prediction\n",
    "predic_test_y=pipelineModel.predict(x_test)\n",
    "pd.crosstab(y_test,predic_test_y)"
   ]
  },
  {
   "cell_type": "code",
   "execution_count": 19,
   "id": "uniform-frame",
   "metadata": {
    "execution": {
     "iopub.execute_input": "2021-11-25T07:42:49.530176Z",
     "iopub.status.busy": "2021-11-25T07:42:49.529505Z",
     "iopub.status.idle": "2021-11-25T07:42:49.772427Z",
     "shell.execute_reply": "2021-11-25T07:42:49.770771Z",
     "shell.execute_reply.started": "2021-11-25T07:41:38.510906Z"
    },
    "papermill": {
     "duration": 0.275094,
     "end_time": "2021-11-25T07:42:49.772623",
     "exception": false,
     "start_time": "2021-11-25T07:42:49.497529",
     "status": "completed"
    },
    "tags": []
   },
   "outputs": [
    {
     "data": {
      "text/plain": [
       "<AxesSubplot:>"
      ]
     },
     "execution_count": 19,
     "metadata": {},
     "output_type": "execute_result"
    },
    {
     "data": {
      "image/png": "[encoded data removed]",
      "text/plain": [
       "<Figure size 432x288 with 2 Axes>"
      ]
     },
     "metadata": {
      "needs_background": "light"
     },
     "output_type": "display_data"
    }
   ],
   "source": [
    "from sklearn.metrics import confusion_matrix\n",
    "sns.heatmap(confusion_matrix(y_test,predic_test_y),annot=True)"
   ]
  },
  {
   "cell_type": "code",
   "execution_count": 20,
   "id": "objective-yemen",
   "metadata": {
    "execution": {
     "iopub.execute_input": "2021-11-25T07:42:49.834776Z",
     "iopub.status.busy": "2021-11-25T07:42:49.834211Z",
     "iopub.status.idle": "2021-11-25T07:42:49.845776Z",
     "shell.execute_reply": "2021-11-25T07:42:49.846317Z",
     "shell.execute_reply.started": "2021-11-25T07:41:38.767482Z"
    },
    "papermill": {
     "duration": 0.044885,
     "end_time": "2021-11-25T07:42:49.846501",
     "exception": false,
     "start_time": "2021-11-25T07:42:49.801616",
     "status": "completed"
    },
    "tags": []
   },
   "outputs": [
    {
     "name": "stdout",
     "output_type": "stream",
     "text": [
      "              precision    recall  f1-score   support\n",
      "\n",
      "           0       0.96      0.92      0.94        83\n",
      "           1       0.83      0.92      0.87        37\n",
      "\n",
      "    accuracy                           0.92       120\n",
      "   macro avg       0.90      0.92      0.91       120\n",
      "weighted avg       0.92      0.92      0.92       120\n",
      "\n"
     ]
    }
   ],
   "source": [
    "#Model Evaluation 2\n",
    "from sklearn.metrics import classification_report\n",
    "print(classification_report(y_test,predic_test_y))"
   ]
  },
  {
   "cell_type": "markdown",
   "id": "commercial-image",
   "metadata": {
    "papermill": {
     "duration": 0.029619,
     "end_time": "2021-11-25T07:42:49.904503",
     "exception": false,
     "start_time": "2021-11-25T07:42:49.874884",
     "status": "completed"
    },
    "tags": []
   },
   "source": [
    "### Checking the best K value for our classification Model"
   ]
  },
  {
   "cell_type": "code",
   "execution_count": 21,
   "id": "spanish-currency",
   "metadata": {
    "execution": {
     "iopub.execute_input": "2021-11-25T07:42:49.972718Z",
     "iopub.status.busy": "2021-11-25T07:42:49.966929Z",
     "iopub.status.idle": "2021-11-25T07:42:51.056690Z",
     "shell.execute_reply": "2021-11-25T07:42:51.056069Z",
     "shell.execute_reply.started": "2021-11-25T07:41:39.147807Z"
    },
    "papermill": {
     "duration": 1.122311,
     "end_time": "2021-11-25T07:42:51.056845",
     "exception": false,
     "start_time": "2021-11-25T07:42:49.934534",
     "status": "completed"
    },
    "tags": []
   },
   "outputs": [],
   "source": [
    "import numpy as np\n",
    "trainAccuracy=[]\n",
    "testAccuracy=[]\n",
    "errorRate=[]\n",
    "for k in range(1,40):\n",
    "    model=KNeighborsClassifier(n_neighbors=k)\n",
    "    model.fit(x_train,y_train)\n",
    "    pred_i = model.predict(x_test)\n",
    "    errorRate.append(np.mean(pred_i != y_test))\n",
    "\n",
    "    trainAccuracy.append(model.score(x_train,y_train))\n",
    "    testAccuracy.append(model.score(x_test,y_test))"
   ]
  },
  {
   "cell_type": "code",
   "execution_count": 22,
   "id": "biological-bradley",
   "metadata": {
    "execution": {
     "iopub.execute_input": "2021-11-25T07:42:51.121825Z",
     "iopub.status.busy": "2021-11-25T07:42:51.121243Z",
     "iopub.status.idle": "2021-11-25T07:42:51.125440Z",
     "shell.execute_reply": "2021-11-25T07:42:51.125862Z",
     "shell.execute_reply.started": "2021-11-25T07:41:40.387394Z"
    },
    "papermill": {
     "duration": 0.038272,
     "end_time": "2021-11-25T07:42:51.126068",
     "exception": false,
     "start_time": "2021-11-25T07:42:51.087796",
     "status": "completed"
    },
    "tags": []
   },
   "outputs": [],
   "source": [
    "\n",
    "subtracted = [element1 - element2 for (element1, element2) in zip( testAccuracy,trainAccuracy,)]"
   ]
  },
  {
   "cell_type": "code",
   "execution_count": 23,
   "id": "sublime-paraguay",
   "metadata": {
    "execution": {
     "iopub.execute_input": "2021-11-25T07:42:51.185509Z",
     "iopub.status.busy": "2021-11-25T07:42:51.184859Z",
     "iopub.status.idle": "2021-11-25T07:42:51.191097Z",
     "shell.execute_reply": "2021-11-25T07:42:51.191579Z",
     "shell.execute_reply.started": "2021-11-25T07:41:40.394978Z"
    },
    "papermill": {
     "duration": 0.03697,
     "end_time": "2021-11-25T07:42:51.191751",
     "exception": false,
     "start_time": "2021-11-25T07:42:51.154781",
     "status": "completed"
    },
    "tags": []
   },
   "outputs": [
    {
     "data": {
      "text/plain": [
       "[-0.06666666666666665,\n",
       " -0.059523809523809534,\n",
       " -0.01904761904761909,\n",
       " -0.014285714285714346,\n",
       " -0.013095238095238049,\n",
       " -0.0011904761904761862,\n",
       " 0.01904761904761909,\n",
       " 0.021428571428571352,\n",
       " 0.030952380952380953,\n",
       " 0.023809523809523836,\n",
       " 0.021428571428571352,\n",
       " 0.030952380952380953,\n",
       " 0.03214285714285714,\n",
       " 0.029761904761904767,\n",
       " 0.0071428571428572285,\n",
       " 0.017857142857142794,\n",
       " 0.0071428571428572285,\n",
       " 0.0011904761904761862,\n",
       " 0.0035714285714286698,\n",
       " -0.010714285714285676,\n",
       " 0.0035714285714286698,\n",
       " 0.017857142857142794,\n",
       " 0.013095238095238049,\n",
       " 0.014285714285714235,\n",
       " 0.02499999999999991,\n",
       " 0.0357142857142857,\n",
       " 0.040476190476190554,\n",
       " 0.02499999999999991,\n",
       " 0.040476190476190554,\n",
       " 0.040476190476190554,\n",
       " 0.03928571428571426,\n",
       " 0.03928571428571426,\n",
       " 0.042857142857142816,\n",
       " 0.03928571428571426,\n",
       " 0.02619047619047621,\n",
       " 0.040476190476190554,\n",
       " 0.04404761904761911,\n",
       " 0.040476190476190554]"
      ]
     },
     "execution_count": 23,
     "metadata": {},
     "output_type": "execute_result"
    }
   ],
   "source": [
    "subtracted[1:]"
   ]
  },
  {
   "cell_type": "code",
   "execution_count": 24,
   "id": "communist-chamber",
   "metadata": {
    "execution": {
     "iopub.execute_input": "2021-11-25T07:42:51.254247Z",
     "iopub.status.busy": "2021-11-25T07:42:51.253561Z",
     "iopub.status.idle": "2021-11-25T07:42:51.385164Z",
     "shell.execute_reply": "2021-11-25T07:42:51.385634Z",
     "shell.execute_reply.started": "2021-11-25T07:41:40.413161Z"
    },
    "papermill": {
     "duration": 0.165298,
     "end_time": "2021-11-25T07:42:51.385823",
     "exception": false,
     "start_time": "2021-11-25T07:42:51.220525",
     "status": "completed"
    },
    "tags": []
   },
   "outputs": [
    {
     "data": {
      "text/plain": [
       "[<matplotlib.lines.Line2D at 0x7f36ac46e950>]"
      ]
     },
     "execution_count": 24,
     "metadata": {},
     "output_type": "execute_result"
    },
    {
     "data": {
      "image/png": "[encoded data removed]",
      "text/plain": [
       "<Figure size 432x288 with 1 Axes>"
      ]
     },
     "metadata": {
      "needs_background": "light"
     },
     "output_type": "display_data"
    }
   ],
   "source": [
    "plt.plot(subtracted)"
   ]
  },
  {
   "cell_type": "code",
   "execution_count": 25,
   "id": "molecular-checkout",
   "metadata": {
    "execution": {
     "iopub.execute_input": "2021-11-25T07:42:51.456316Z",
     "iopub.status.busy": "2021-11-25T07:42:51.455601Z",
     "iopub.status.idle": "2021-11-25T07:42:51.634853Z",
     "shell.execute_reply": "2021-11-25T07:42:51.635493Z",
     "shell.execute_reply.started": "2021-11-25T07:41:46.672020Z"
    },
    "papermill": {
     "duration": 0.218283,
     "end_time": "2021-11-25T07:42:51.635676",
     "exception": false,
     "start_time": "2021-11-25T07:42:51.417393",
     "status": "completed"
    },
    "tags": []
   },
   "outputs": [
    {
     "name": "stdout",
     "output_type": "stream",
     "text": [
      "Minimum error:- 0.15 at K = 5\n"
     ]
    },
    {
     "data": {
      "image/png": "[encoded data removed]",
      "text/plain": [
       "<Figure size 720x432 with 1 Axes>"
      ]
     },
     "metadata": {
      "needs_background": "light"
     },
     "output_type": "display_data"
    }
   ],
   "source": [
    "plt.figure(figsize=(10,6))\n",
    "plt.plot(range(1,40),errorRate,color='blue', linestyle='dashed', \n",
    "         marker='o',markerfacecolor='red', markersize=10)\n",
    "plt.title('Error Rate vs. K Value')\n",
    "plt.xlabel('K')\n",
    "plt.ylabel('Error Rate')\n",
    "print(\"Minimum error:-\",min(errorRate),\"at K =\",errorRate.index(min(errorRate))+1)"
   ]
  },
  {
   "cell_type": "code",
   "execution_count": 26,
   "id": "precise-index",
   "metadata": {
    "execution": {
     "iopub.execute_input": "2021-11-25T07:42:51.702851Z",
     "iopub.status.busy": "2021-11-25T07:42:51.701913Z",
     "iopub.status.idle": "2021-11-25T07:42:51.884232Z",
     "shell.execute_reply": "2021-11-25T07:42:51.883204Z",
     "shell.execute_reply.started": "2021-11-25T07:42:06.455468Z"
    },
    "papermill": {
     "duration": 0.217371,
     "end_time": "2021-11-25T07:42:51.884423",
     "exception": false,
     "start_time": "2021-11-25T07:42:51.667052",
     "status": "completed"
    },
    "tags": []
   },
   "outputs": [
    {
     "data": {
      "image/png": "[encoded data removed]",
      "text/plain": [
       "<Figure size 864x432 with 1 Axes>"
      ]
     },
     "metadata": {
      "needs_background": "light"
     },
     "output_type": "display_data"
    }
   ],
   "source": [
    "from matplotlib import pyplot as plt,style\n",
    "plt.figure(figsize=(12,6))\n",
    "plt.plot(range(1,40),trainAccuracy,label=\"Train Score\",marker=\"o\",markerfacecolor=\"teal\",color=\"blue\",linestyle=\"dashed\")\n",
    "plt.plot(range(1,40),testAccuracy,label=\"Test Score\",marker=\"o\",markerfacecolor=\"red\",color=\"black\",linestyle=\"dashed\")\n",
    "plt.legend()\n",
    "plt.xlabel(\"Number of Neighbors\")\n",
    "plt.ylabel(\"Score\")\n",
    "plt.title(\"Nbd Vs Score\")\n",
    "plt.show()"
   ]
  },
  {
   "cell_type": "markdown",
   "id": "local-veteran",
   "metadata": {
    "papermill": {
     "duration": 0.033736,
     "end_time": "2021-11-25T07:42:51.950639",
     "exception": false,
     "start_time": "2021-11-25T07:42:51.916903",
     "status": "completed"
    },
    "tags": []
   },
   "source": [
    "We can see the optimal value of K is 8 ! SInce for ither values the test-train difference is really "
   ]
  },
  {
   "cell_type": "code",
   "execution_count": 27,
   "id": "antique-shark",
   "metadata": {
    "execution": {
     "iopub.execute_input": "2021-11-25T07:42:52.026370Z",
     "iopub.status.busy": "2021-11-25T07:42:52.025364Z",
     "iopub.status.idle": "2021-11-25T07:42:52.076653Z",
     "shell.execute_reply": "2021-11-25T07:42:52.075853Z",
     "shell.execute_reply.started": "2021-11-25T07:42:22.507929Z"
    },
    "papermill": {
     "duration": 0.092507,
     "end_time": "2021-11-25T07:42:52.076841",
     "exception": false,
     "start_time": "2021-11-25T07:42:51.984334",
     "status": "completed"
    },
    "tags": []
   },
   "outputs": [
    {
     "name": "stdout",
     "output_type": "stream",
     "text": [
      "score is:0.9214285714285714\n",
      "********************************\n",
      "col_0        0   1\n",
      "Purchased         \n",
      "0          161  13\n",
      "1            9  97\n"
     ]
    }
   ],
   "source": [
    "#creating a model using K =5\n",
    "model_steps_20=[('sipStanderise',StandardScaler()),('shipModel',KNeighborsClassifier(n_neighbors=5,metric='minkowski',p=2))]\n",
    "pipelineModel=Pipeline(steps=model_steps_20)\n",
    "pipelineModel.fit(x_train,y_train)\n",
    "print(\"score is:\"+ str(pipelineModel.score(x_train,y_train)))\n",
    "print(\"********************************\")\n",
    "pipelineModel.score(x_test,y_test)\n",
    "predic_test_y=pipelineModel.predict(x_train)\n",
    "print(pd.crosstab(y_train,predic_test_y))"
   ]
  },
  {
   "cell_type": "markdown",
   "id": "sacred-division",
   "metadata": {
    "papermill": {
     "duration": 0.033632,
     "end_time": "2021-11-25T07:42:52.144670",
     "exception": false,
     "start_time": "2021-11-25T07:42:52.111038",
     "status": "completed"
    },
    "tags": []
   },
   "source": [
    "We can see that there is a little improvment in prediction after using the optimal valus of K. We infer 5 is the optimal value since it's errorRate is least and diff between Test and Train scores are lowest"
   ]
  }
 ],
 "metadata": {
  "kernelspec": {
   "display_name": "Python 3",
   "language": "python",
   "name": "python3"
  },
  "language_info": {
   "codemirror_mode": {
    "name": "ipython",
    "version": 3
   },
   "file_extension": ".py",
   "mimetype": "text/x-python",
   "name": "python",
   "nbconvert_exporter": "python",
   "pygments_lexer": "ipython3",
   "version": "3.7.9"
  },
  "papermill": {
   "default_parameters": {},
   "duration": 13.407073,
   "end_time": "2021-11-25T07:42:52.890778",
   "environment_variables": {},
   "exception": null,
   "input_path": "__notebook__.ipynb",
   "output_path": "__notebook__.ipynb",
   "parameters": {},
   "start_time": "2021-11-25T07:42:39.483705",
   "version": "2.3.2"
  }
 },
 "nbformat": 4,
 "nbformat_minor": 5
}
