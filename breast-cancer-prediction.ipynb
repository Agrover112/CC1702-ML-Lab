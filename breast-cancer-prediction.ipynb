{
 "cells": [
  {
   "cell_type": "markdown",
   "id": "18a4397b",
   "metadata": {
    "_cell_guid": "dafef955-4c2c-a871-f1d8-3e0d306393b0",
    "papermill": {
     "duration": 0.029137,
     "end_time": "2021-11-25T08:05:50.561192",
     "exception": false,
     "start_time": "2021-11-25T08:05:50.532055",
     "status": "completed"
    },
    "tags": []
   },
   "source": [
    "# Using the Wisconsin breast cancer diagnostic data set for predictive analysis\n",
    "Attribute Information:\n",
    "\n",
    " - 1) ID number \n",
    " - 2) Diagnosis (M = malignant, B = benign) \n",
    " \n",
    "-3-32.Ten real-valued features are computed for each cell nucleus:\n",
    "\n",
    " - a) radius (mean of distances from center to points on the perimeter) \n",
    " - b) texture (standard deviation of gray-scale values) \n",
    " - c) perimeter \n",
    " - d) area \n",
    " - e) smoothness (local variation in radius lengths) \n",
    " - f) compactness (perimeter^2 / area - 1.0) \n",
    " - g). concavity (severity of concave portions of the contour) \n",
    " - h). concave points (number of concave portions of the contour) \n",
    " - i). symmetry \n",
    " - j). fractal dimension (\"coastline approximation\" - 1)\n",
    "\n",
    "The mean, standard error and \"worst\" or largest (mean of the three largest values) of these features were computed for each image, resulting in 30 features. For instance, field 3 is Mean Radius, field 13 is Radius SE, field 23 is Worst Radius.\n",
    "\n",
    "\n",
    "For this analysis, as a guide to predictive analysis I followed the instructions and discussion on \"A Complete Tutorial on Tree Based Modeling from Scratch (in R & Python)\" at Analytics Vidhya."
   ]
  },
  {
   "cell_type": "markdown",
   "id": "7286bc6f",
   "metadata": {
    "_cell_guid": "5e26372e-f1bd-b50f-0c1c-33a44306d1f7",
    "papermill": {
     "duration": 0.025366,
     "end_time": "2021-11-25T08:05:50.612294",
     "exception": false,
     "start_time": "2021-11-25T08:05:50.586928",
     "status": "completed"
    },
    "tags": []
   },
   "source": [
    "#Load Libraries"
   ]
  },
  {
   "cell_type": "code",
   "execution_count": 1,
   "id": "5c5198be",
   "metadata": {
    "_cell_guid": "2768ce80-1a7d-ca31-a35f-29cf0ef7fb15",
    "execution": {
     "iopub.execute_input": "2021-11-25T08:05:50.669221Z",
     "iopub.status.busy": "2021-11-25T08:05:50.667417Z",
     "iopub.status.idle": "2021-11-25T08:05:51.679238Z",
     "shell.execute_reply": "2021-11-25T08:05:51.678153Z",
     "shell.execute_reply.started": "2021-11-25T07:49:13.452327Z"
    },
    "papermill": {
     "duration": 1.041675,
     "end_time": "2021-11-25T08:05:51.679431",
     "exception": false,
     "start_time": "2021-11-25T08:05:50.637756",
     "status": "completed"
    },
    "tags": []
   },
   "outputs": [],
   "source": [
    "import numpy as np \n",
    "import pandas as pd \n",
    "\n",
    "\n",
    "%matplotlib inline \n",
    "import matplotlib.pyplot as plt \n",
    "import matplotlib.gridspec as gridspec \n",
    "import mpld3 as mpl\n",
    "\n",
    "\n",
    "from sklearn.model_selection import train_test_split\n",
    "from sklearn.model_selection import KFold\n",
    "from sklearn import metrics"
   ]
  },
  {
   "cell_type": "markdown",
   "id": "6bf0e555",
   "metadata": {
    "_cell_guid": "09b9d090-2cba-ad5a-58ce-84208f95dba4",
    "papermill": {
     "duration": 0.025544,
     "end_time": "2021-11-25T08:05:51.730413",
     "exception": false,
     "start_time": "2021-11-25T08:05:51.704869",
     "status": "completed"
    },
    "tags": []
   },
   "source": [
    "# Load the data"
   ]
  },
  {
   "cell_type": "code",
   "execution_count": 2,
   "id": "867ffd8b",
   "metadata": {
    "_cell_guid": "9180cb22-53d2-6bf2-3a29-99448ab808fb",
    "execution": {
     "iopub.execute_input": "2021-11-25T08:05:51.786745Z",
     "iopub.status.busy": "2021-11-25T08:05:51.784532Z",
     "iopub.status.idle": "2021-11-25T08:05:51.862999Z",
     "shell.execute_reply": "2021-11-25T08:05:51.863541Z",
     "shell.execute_reply.started": "2021-11-25T07:49:14.559369Z"
    },
    "papermill": {
     "duration": 0.107613,
     "end_time": "2021-11-25T08:05:51.863755",
     "exception": false,
     "start_time": "2021-11-25T08:05:51.756142",
     "status": "completed"
    },
    "tags": []
   },
   "outputs": [
    {
     "data": {
      "text/html": [
       "<div>\n",
       "<style scoped>\n",
       "    .dataframe tbody tr th:only-of-type {\n",
       "        vertical-align: middle;\n",
       "    }\n",
       "\n",
       "    .dataframe tbody tr th {\n",
       "        vertical-align: top;\n",
       "    }\n",
       "\n",
       "    .dataframe thead th {\n",
       "        text-align: right;\n",
       "    }\n",
       "</style>\n",
       "<table border=\"1\" class=\"dataframe\">\n",
       "  <thead>\n",
       "    <tr style=\"text-align: right;\">\n",
       "      <th></th>\n",
       "      <th>id</th>\n",
       "      <th>diagnosis</th>\n",
       "      <th>radius_mean</th>\n",
       "      <th>texture_mean</th>\n",
       "      <th>perimeter_mean</th>\n",
       "      <th>area_mean</th>\n",
       "      <th>smoothness_mean</th>\n",
       "      <th>compactness_mean</th>\n",
       "      <th>concavity_mean</th>\n",
       "      <th>concave points_mean</th>\n",
       "      <th>...</th>\n",
       "      <th>texture_worst</th>\n",
       "      <th>perimeter_worst</th>\n",
       "      <th>area_worst</th>\n",
       "      <th>smoothness_worst</th>\n",
       "      <th>compactness_worst</th>\n",
       "      <th>concavity_worst</th>\n",
       "      <th>concave points_worst</th>\n",
       "      <th>symmetry_worst</th>\n",
       "      <th>fractal_dimension_worst</th>\n",
       "      <th>Unnamed: 32</th>\n",
       "    </tr>\n",
       "  </thead>\n",
       "  <tbody>\n",
       "    <tr>\n",
       "      <th>0</th>\n",
       "      <td>842302</td>\n",
       "      <td>M</td>\n",
       "      <td>17.99</td>\n",
       "      <td>10.38</td>\n",
       "      <td>122.80</td>\n",
       "      <td>1001.0</td>\n",
       "      <td>0.11840</td>\n",
       "      <td>0.27760</td>\n",
       "      <td>0.3001</td>\n",
       "      <td>0.14710</td>\n",
       "      <td>...</td>\n",
       "      <td>17.33</td>\n",
       "      <td>184.60</td>\n",
       "      <td>2019.0</td>\n",
       "      <td>0.1622</td>\n",
       "      <td>0.6656</td>\n",
       "      <td>0.7119</td>\n",
       "      <td>0.2654</td>\n",
       "      <td>0.4601</td>\n",
       "      <td>0.11890</td>\n",
       "      <td>NaN</td>\n",
       "    </tr>\n",
       "    <tr>\n",
       "      <th>1</th>\n",
       "      <td>842517</td>\n",
       "      <td>M</td>\n",
       "      <td>20.57</td>\n",
       "      <td>17.77</td>\n",
       "      <td>132.90</td>\n",
       "      <td>1326.0</td>\n",
       "      <td>0.08474</td>\n",
       "      <td>0.07864</td>\n",
       "      <td>0.0869</td>\n",
       "      <td>0.07017</td>\n",
       "      <td>...</td>\n",
       "      <td>23.41</td>\n",
       "      <td>158.80</td>\n",
       "      <td>1956.0</td>\n",
       "      <td>0.1238</td>\n",
       "      <td>0.1866</td>\n",
       "      <td>0.2416</td>\n",
       "      <td>0.1860</td>\n",
       "      <td>0.2750</td>\n",
       "      <td>0.08902</td>\n",
       "      <td>NaN</td>\n",
       "    </tr>\n",
       "    <tr>\n",
       "      <th>2</th>\n",
       "      <td>84300903</td>\n",
       "      <td>M</td>\n",
       "      <td>19.69</td>\n",
       "      <td>21.25</td>\n",
       "      <td>130.00</td>\n",
       "      <td>1203.0</td>\n",
       "      <td>0.10960</td>\n",
       "      <td>0.15990</td>\n",
       "      <td>0.1974</td>\n",
       "      <td>0.12790</td>\n",
       "      <td>...</td>\n",
       "      <td>25.53</td>\n",
       "      <td>152.50</td>\n",
       "      <td>1709.0</td>\n",
       "      <td>0.1444</td>\n",
       "      <td>0.4245</td>\n",
       "      <td>0.4504</td>\n",
       "      <td>0.2430</td>\n",
       "      <td>0.3613</td>\n",
       "      <td>0.08758</td>\n",
       "      <td>NaN</td>\n",
       "    </tr>\n",
       "    <tr>\n",
       "      <th>3</th>\n",
       "      <td>84348301</td>\n",
       "      <td>M</td>\n",
       "      <td>11.42</td>\n",
       "      <td>20.38</td>\n",
       "      <td>77.58</td>\n",
       "      <td>386.1</td>\n",
       "      <td>0.14250</td>\n",
       "      <td>0.28390</td>\n",
       "      <td>0.2414</td>\n",
       "      <td>0.10520</td>\n",
       "      <td>...</td>\n",
       "      <td>26.50</td>\n",
       "      <td>98.87</td>\n",
       "      <td>567.7</td>\n",
       "      <td>0.2098</td>\n",
       "      <td>0.8663</td>\n",
       "      <td>0.6869</td>\n",
       "      <td>0.2575</td>\n",
       "      <td>0.6638</td>\n",
       "      <td>0.17300</td>\n",
       "      <td>NaN</td>\n",
       "    </tr>\n",
       "    <tr>\n",
       "      <th>4</th>\n",
       "      <td>84358402</td>\n",
       "      <td>M</td>\n",
       "      <td>20.29</td>\n",
       "      <td>14.34</td>\n",
       "      <td>135.10</td>\n",
       "      <td>1297.0</td>\n",
       "      <td>0.10030</td>\n",
       "      <td>0.13280</td>\n",
       "      <td>0.1980</td>\n",
       "      <td>0.10430</td>\n",
       "      <td>...</td>\n",
       "      <td>16.67</td>\n",
       "      <td>152.20</td>\n",
       "      <td>1575.0</td>\n",
       "      <td>0.1374</td>\n",
       "      <td>0.2050</td>\n",
       "      <td>0.4000</td>\n",
       "      <td>0.1625</td>\n",
       "      <td>0.2364</td>\n",
       "      <td>0.07678</td>\n",
       "      <td>NaN</td>\n",
       "    </tr>\n",
       "  </tbody>\n",
       "</table>\n",
       "<p>5 rows × 33 columns</p>\n",
       "</div>"
      ],
      "text/plain": [
       "         id diagnosis  radius_mean  texture_mean  perimeter_mean  area_mean  \\\n",
       "0    842302         M        17.99         10.38          122.80     1001.0   \n",
       "1    842517         M        20.57         17.77          132.90     1326.0   \n",
       "2  84300903         M        19.69         21.25          130.00     1203.0   \n",
       "3  84348301         M        11.42         20.38           77.58      386.1   \n",
       "4  84358402         M        20.29         14.34          135.10     1297.0   \n",
       "\n",
       "   smoothness_mean  compactness_mean  concavity_mean  concave points_mean  \\\n",
       "0          0.11840           0.27760          0.3001              0.14710   \n",
       "1          0.08474           0.07864          0.0869              0.07017   \n",
       "2          0.10960           0.15990          0.1974              0.12790   \n",
       "3          0.14250           0.28390          0.2414              0.10520   \n",
       "4          0.10030           0.13280          0.1980              0.10430   \n",
       "\n",
       "   ...  texture_worst  perimeter_worst  area_worst  smoothness_worst  \\\n",
       "0  ...          17.33           184.60      2019.0            0.1622   \n",
       "1  ...          23.41           158.80      1956.0            0.1238   \n",
       "2  ...          25.53           152.50      1709.0            0.1444   \n",
       "3  ...          26.50            98.87       567.7            0.2098   \n",
       "4  ...          16.67           152.20      1575.0            0.1374   \n",
       "\n",
       "   compactness_worst  concavity_worst  concave points_worst  symmetry_worst  \\\n",
       "0             0.6656           0.7119                0.2654          0.4601   \n",
       "1             0.1866           0.2416                0.1860          0.2750   \n",
       "2             0.4245           0.4504                0.2430          0.3613   \n",
       "3             0.8663           0.6869                0.2575          0.6638   \n",
       "4             0.2050           0.4000                0.1625          0.2364   \n",
       "\n",
       "   fractal_dimension_worst  Unnamed: 32  \n",
       "0                  0.11890          NaN  \n",
       "1                  0.08902          NaN  \n",
       "2                  0.08758          NaN  \n",
       "3                  0.17300          NaN  \n",
       "4                  0.07678          NaN  \n",
       "\n",
       "[5 rows x 33 columns]"
      ]
     },
     "execution_count": 2,
     "metadata": {},
     "output_type": "execute_result"
    }
   ],
   "source": [
    "df = pd.read_csv(\"../input/data.csv\",header = 0)\n",
    "df.head()"
   ]
  },
  {
   "cell_type": "markdown",
   "id": "7e0d94e1",
   "metadata": {
    "_cell_guid": "e382010d-1d71-b8d6-4a6e-a0abc9e42372",
    "papermill": {
     "duration": 0.026219,
     "end_time": "2021-11-25T08:05:51.916566",
     "exception": false,
     "start_time": "2021-11-25T08:05:51.890347",
     "status": "completed"
    },
    "tags": []
   },
   "source": [
    "# Clean and prepare data"
   ]
  },
  {
   "cell_type": "code",
   "execution_count": 3,
   "id": "eb51d6bf",
   "metadata": {
    "_cell_guid": "f9fd3701-af9d-8d8c-5d0e-e2673d7977fe",
    "execution": {
     "iopub.execute_input": "2021-11-25T08:05:51.981711Z",
     "iopub.status.busy": "2021-11-25T08:05:51.981025Z",
     "iopub.status.idle": "2021-11-25T08:05:51.983827Z",
     "shell.execute_reply": "2021-11-25T08:05:51.984407Z",
     "shell.execute_reply.started": "2021-11-25T07:49:14.637233Z"
    },
    "papermill": {
     "duration": 0.042167,
     "end_time": "2021-11-25T08:05:51.984588",
     "exception": false,
     "start_time": "2021-11-25T08:05:51.942421",
     "status": "completed"
    },
    "tags": []
   },
   "outputs": [
    {
     "data": {
      "text/plain": [
       "569"
      ]
     },
     "execution_count": 3,
     "metadata": {},
     "output_type": "execute_result"
    }
   ],
   "source": [
    "df.drop('id',axis=1,inplace=True)\n",
    "df.drop('Unnamed: 32',axis=1,inplace=True)\n",
    "len(df)"
   ]
  },
  {
   "cell_type": "code",
   "execution_count": 4,
   "id": "420698a6",
   "metadata": {
    "_cell_guid": "083fe464-8dac-713e-d0a1-46435c0d93fa",
    "execution": {
     "iopub.execute_input": "2021-11-25T08:05:52.042023Z",
     "iopub.status.busy": "2021-11-25T08:05:52.041311Z",
     "iopub.status.idle": "2021-11-25T08:05:52.048620Z",
     "shell.execute_reply": "2021-11-25T08:05:52.049195Z",
     "shell.execute_reply.started": "2021-11-25T07:49:14.659610Z"
    },
    "papermill": {
     "duration": 0.037072,
     "end_time": "2021-11-25T08:05:52.049374",
     "exception": false,
     "start_time": "2021-11-25T08:05:52.012302",
     "status": "completed"
    },
    "tags": []
   },
   "outputs": [
    {
     "data": {
      "text/plain": [
       "array(['M', 'B'], dtype=object)"
      ]
     },
     "execution_count": 4,
     "metadata": {},
     "output_type": "execute_result"
    }
   ],
   "source": [
    "df.diagnosis.unique()"
   ]
  },
  {
   "cell_type": "code",
   "execution_count": 5,
   "id": "cca1214a",
   "metadata": {
    "_cell_guid": "0882e4c2-3d4d-d4d9-5f49-f36c1b248b93",
    "execution": {
     "iopub.execute_input": "2021-11-25T08:05:52.105985Z",
     "iopub.status.busy": "2021-11-25T08:05:52.105289Z",
     "iopub.status.idle": "2021-11-25T08:05:52.133868Z",
     "shell.execute_reply": "2021-11-25T08:05:52.134456Z",
     "shell.execute_reply.started": "2021-11-25T07:49:14.674581Z"
    },
    "papermill": {
     "duration": 0.058435,
     "end_time": "2021-11-25T08:05:52.134664",
     "exception": false,
     "start_time": "2021-11-25T08:05:52.076229",
     "status": "completed"
    },
    "tags": []
   },
   "outputs": [
    {
     "data": {
      "text/html": [
       "<div>\n",
       "<style scoped>\n",
       "    .dataframe tbody tr th:only-of-type {\n",
       "        vertical-align: middle;\n",
       "    }\n",
       "\n",
       "    .dataframe tbody tr th {\n",
       "        vertical-align: top;\n",
       "    }\n",
       "\n",
       "    .dataframe thead th {\n",
       "        text-align: right;\n",
       "    }\n",
       "</style>\n",
       "<table border=\"1\" class=\"dataframe\">\n",
       "  <thead>\n",
       "    <tr style=\"text-align: right;\">\n",
       "      <th></th>\n",
       "      <th>diagnosis</th>\n",
       "      <th>radius_mean</th>\n",
       "      <th>texture_mean</th>\n",
       "      <th>perimeter_mean</th>\n",
       "      <th>area_mean</th>\n",
       "      <th>smoothness_mean</th>\n",
       "      <th>compactness_mean</th>\n",
       "      <th>concavity_mean</th>\n",
       "      <th>concave points_mean</th>\n",
       "      <th>symmetry_mean</th>\n",
       "      <th>...</th>\n",
       "      <th>radius_worst</th>\n",
       "      <th>texture_worst</th>\n",
       "      <th>perimeter_worst</th>\n",
       "      <th>area_worst</th>\n",
       "      <th>smoothness_worst</th>\n",
       "      <th>compactness_worst</th>\n",
       "      <th>concavity_worst</th>\n",
       "      <th>concave points_worst</th>\n",
       "      <th>symmetry_worst</th>\n",
       "      <th>fractal_dimension_worst</th>\n",
       "    </tr>\n",
       "  </thead>\n",
       "  <tbody>\n",
       "    <tr>\n",
       "      <th>0</th>\n",
       "      <td>1</td>\n",
       "      <td>17.99</td>\n",
       "      <td>10.38</td>\n",
       "      <td>122.80</td>\n",
       "      <td>1001.0</td>\n",
       "      <td>0.11840</td>\n",
       "      <td>0.27760</td>\n",
       "      <td>0.3001</td>\n",
       "      <td>0.14710</td>\n",
       "      <td>0.2419</td>\n",
       "      <td>...</td>\n",
       "      <td>25.38</td>\n",
       "      <td>17.33</td>\n",
       "      <td>184.60</td>\n",
       "      <td>2019.0</td>\n",
       "      <td>0.1622</td>\n",
       "      <td>0.6656</td>\n",
       "      <td>0.7119</td>\n",
       "      <td>0.2654</td>\n",
       "      <td>0.4601</td>\n",
       "      <td>0.11890</td>\n",
       "    </tr>\n",
       "    <tr>\n",
       "      <th>1</th>\n",
       "      <td>1</td>\n",
       "      <td>20.57</td>\n",
       "      <td>17.77</td>\n",
       "      <td>132.90</td>\n",
       "      <td>1326.0</td>\n",
       "      <td>0.08474</td>\n",
       "      <td>0.07864</td>\n",
       "      <td>0.0869</td>\n",
       "      <td>0.07017</td>\n",
       "      <td>0.1812</td>\n",
       "      <td>...</td>\n",
       "      <td>24.99</td>\n",
       "      <td>23.41</td>\n",
       "      <td>158.80</td>\n",
       "      <td>1956.0</td>\n",
       "      <td>0.1238</td>\n",
       "      <td>0.1866</td>\n",
       "      <td>0.2416</td>\n",
       "      <td>0.1860</td>\n",
       "      <td>0.2750</td>\n",
       "      <td>0.08902</td>\n",
       "    </tr>\n",
       "    <tr>\n",
       "      <th>2</th>\n",
       "      <td>1</td>\n",
       "      <td>19.69</td>\n",
       "      <td>21.25</td>\n",
       "      <td>130.00</td>\n",
       "      <td>1203.0</td>\n",
       "      <td>0.10960</td>\n",
       "      <td>0.15990</td>\n",
       "      <td>0.1974</td>\n",
       "      <td>0.12790</td>\n",
       "      <td>0.2069</td>\n",
       "      <td>...</td>\n",
       "      <td>23.57</td>\n",
       "      <td>25.53</td>\n",
       "      <td>152.50</td>\n",
       "      <td>1709.0</td>\n",
       "      <td>0.1444</td>\n",
       "      <td>0.4245</td>\n",
       "      <td>0.4504</td>\n",
       "      <td>0.2430</td>\n",
       "      <td>0.3613</td>\n",
       "      <td>0.08758</td>\n",
       "    </tr>\n",
       "    <tr>\n",
       "      <th>3</th>\n",
       "      <td>1</td>\n",
       "      <td>11.42</td>\n",
       "      <td>20.38</td>\n",
       "      <td>77.58</td>\n",
       "      <td>386.1</td>\n",
       "      <td>0.14250</td>\n",
       "      <td>0.28390</td>\n",
       "      <td>0.2414</td>\n",
       "      <td>0.10520</td>\n",
       "      <td>0.2597</td>\n",
       "      <td>...</td>\n",
       "      <td>14.91</td>\n",
       "      <td>26.50</td>\n",
       "      <td>98.87</td>\n",
       "      <td>567.7</td>\n",
       "      <td>0.2098</td>\n",
       "      <td>0.8663</td>\n",
       "      <td>0.6869</td>\n",
       "      <td>0.2575</td>\n",
       "      <td>0.6638</td>\n",
       "      <td>0.17300</td>\n",
       "    </tr>\n",
       "    <tr>\n",
       "      <th>4</th>\n",
       "      <td>1</td>\n",
       "      <td>20.29</td>\n",
       "      <td>14.34</td>\n",
       "      <td>135.10</td>\n",
       "      <td>1297.0</td>\n",
       "      <td>0.10030</td>\n",
       "      <td>0.13280</td>\n",
       "      <td>0.1980</td>\n",
       "      <td>0.10430</td>\n",
       "      <td>0.1809</td>\n",
       "      <td>...</td>\n",
       "      <td>22.54</td>\n",
       "      <td>16.67</td>\n",
       "      <td>152.20</td>\n",
       "      <td>1575.0</td>\n",
       "      <td>0.1374</td>\n",
       "      <td>0.2050</td>\n",
       "      <td>0.4000</td>\n",
       "      <td>0.1625</td>\n",
       "      <td>0.2364</td>\n",
       "      <td>0.07678</td>\n",
       "    </tr>\n",
       "  </tbody>\n",
       "</table>\n",
       "<p>5 rows × 31 columns</p>\n",
       "</div>"
      ],
      "text/plain": [
       "   diagnosis  radius_mean  texture_mean  perimeter_mean  area_mean  \\\n",
       "0          1        17.99         10.38          122.80     1001.0   \n",
       "1          1        20.57         17.77          132.90     1326.0   \n",
       "2          1        19.69         21.25          130.00     1203.0   \n",
       "3          1        11.42         20.38           77.58      386.1   \n",
       "4          1        20.29         14.34          135.10     1297.0   \n",
       "\n",
       "   smoothness_mean  compactness_mean  concavity_mean  concave points_mean  \\\n",
       "0          0.11840           0.27760          0.3001              0.14710   \n",
       "1          0.08474           0.07864          0.0869              0.07017   \n",
       "2          0.10960           0.15990          0.1974              0.12790   \n",
       "3          0.14250           0.28390          0.2414              0.10520   \n",
       "4          0.10030           0.13280          0.1980              0.10430   \n",
       "\n",
       "   symmetry_mean  ...  radius_worst  texture_worst  perimeter_worst  \\\n",
       "0         0.2419  ...         25.38          17.33           184.60   \n",
       "1         0.1812  ...         24.99          23.41           158.80   \n",
       "2         0.2069  ...         23.57          25.53           152.50   \n",
       "3         0.2597  ...         14.91          26.50            98.87   \n",
       "4         0.1809  ...         22.54          16.67           152.20   \n",
       "\n",
       "   area_worst  smoothness_worst  compactness_worst  concavity_worst  \\\n",
       "0      2019.0            0.1622             0.6656           0.7119   \n",
       "1      1956.0            0.1238             0.1866           0.2416   \n",
       "2      1709.0            0.1444             0.4245           0.4504   \n",
       "3       567.7            0.2098             0.8663           0.6869   \n",
       "4      1575.0            0.1374             0.2050           0.4000   \n",
       "\n",
       "   concave points_worst  symmetry_worst  fractal_dimension_worst  \n",
       "0                0.2654          0.4601                  0.11890  \n",
       "1                0.1860          0.2750                  0.08902  \n",
       "2                0.2430          0.3613                  0.08758  \n",
       "3                0.2575          0.6638                  0.17300  \n",
       "4                0.1625          0.2364                  0.07678  \n",
       "\n",
       "[5 rows x 31 columns]"
      ]
     },
     "execution_count": 5,
     "metadata": {},
     "output_type": "execute_result"
    }
   ],
   "source": [
    "#Convert \n",
    "df['diagnosis'] = df['diagnosis'].map({'M':1,'B':0})\n",
    "df.head()\n",
    "\n",
    "# Explore data"
   ]
  },
  {
   "cell_type": "code",
   "execution_count": 6,
   "id": "6c3c6ba7",
   "metadata": {
    "_cell_guid": "cfd882cd-1719-4093-934a-539faf665353",
    "execution": {
     "iopub.execute_input": "2021-11-25T08:05:52.194425Z",
     "iopub.status.busy": "2021-11-25T08:05:52.193779Z",
     "iopub.status.idle": "2021-11-25T08:05:52.279424Z",
     "shell.execute_reply": "2021-11-25T08:05:52.278876Z",
     "shell.execute_reply.started": "2021-11-25T07:49:14.717060Z"
    },
    "papermill": {
     "duration": 0.116726,
     "end_time": "2021-11-25T08:05:52.279608",
     "exception": false,
     "start_time": "2021-11-25T08:05:52.162882",
     "status": "completed"
    },
    "tags": []
   },
   "outputs": [
    {
     "data": {
      "text/html": [
       "<div>\n",
       "<style scoped>\n",
       "    .dataframe tbody tr th:only-of-type {\n",
       "        vertical-align: middle;\n",
       "    }\n",
       "\n",
       "    .dataframe tbody tr th {\n",
       "        vertical-align: top;\n",
       "    }\n",
       "\n",
       "    .dataframe thead th {\n",
       "        text-align: right;\n",
       "    }\n",
       "</style>\n",
       "<table border=\"1\" class=\"dataframe\">\n",
       "  <thead>\n",
       "    <tr style=\"text-align: right;\">\n",
       "      <th></th>\n",
       "      <th>diagnosis</th>\n",
       "      <th>radius_mean</th>\n",
       "      <th>texture_mean</th>\n",
       "      <th>perimeter_mean</th>\n",
       "      <th>area_mean</th>\n",
       "      <th>smoothness_mean</th>\n",
       "      <th>compactness_mean</th>\n",
       "      <th>concavity_mean</th>\n",
       "      <th>concave points_mean</th>\n",
       "      <th>symmetry_mean</th>\n",
       "      <th>...</th>\n",
       "      <th>radius_worst</th>\n",
       "      <th>texture_worst</th>\n",
       "      <th>perimeter_worst</th>\n",
       "      <th>area_worst</th>\n",
       "      <th>smoothness_worst</th>\n",
       "      <th>compactness_worst</th>\n",
       "      <th>concavity_worst</th>\n",
       "      <th>concave points_worst</th>\n",
       "      <th>symmetry_worst</th>\n",
       "      <th>fractal_dimension_worst</th>\n",
       "    </tr>\n",
       "  </thead>\n",
       "  <tbody>\n",
       "    <tr>\n",
       "      <th>count</th>\n",
       "      <td>569.000000</td>\n",
       "      <td>569.000000</td>\n",
       "      <td>569.000000</td>\n",
       "      <td>569.000000</td>\n",
       "      <td>569.000000</td>\n",
       "      <td>569.000000</td>\n",
       "      <td>569.000000</td>\n",
       "      <td>569.000000</td>\n",
       "      <td>569.000000</td>\n",
       "      <td>569.000000</td>\n",
       "      <td>...</td>\n",
       "      <td>569.000000</td>\n",
       "      <td>569.000000</td>\n",
       "      <td>569.000000</td>\n",
       "      <td>569.000000</td>\n",
       "      <td>569.000000</td>\n",
       "      <td>569.000000</td>\n",
       "      <td>569.000000</td>\n",
       "      <td>569.000000</td>\n",
       "      <td>569.000000</td>\n",
       "      <td>569.000000</td>\n",
       "    </tr>\n",
       "    <tr>\n",
       "      <th>mean</th>\n",
       "      <td>0.372583</td>\n",
       "      <td>14.127292</td>\n",
       "      <td>19.289649</td>\n",
       "      <td>91.969033</td>\n",
       "      <td>654.889104</td>\n",
       "      <td>0.096360</td>\n",
       "      <td>0.104341</td>\n",
       "      <td>0.088799</td>\n",
       "      <td>0.048919</td>\n",
       "      <td>0.181162</td>\n",
       "      <td>...</td>\n",
       "      <td>16.269190</td>\n",
       "      <td>25.677223</td>\n",
       "      <td>107.261213</td>\n",
       "      <td>880.583128</td>\n",
       "      <td>0.132369</td>\n",
       "      <td>0.254265</td>\n",
       "      <td>0.272188</td>\n",
       "      <td>0.114606</td>\n",
       "      <td>0.290076</td>\n",
       "      <td>0.083946</td>\n",
       "    </tr>\n",
       "    <tr>\n",
       "      <th>std</th>\n",
       "      <td>0.483918</td>\n",
       "      <td>3.524049</td>\n",
       "      <td>4.301036</td>\n",
       "      <td>24.298981</td>\n",
       "      <td>351.914129</td>\n",
       "      <td>0.014064</td>\n",
       "      <td>0.052813</td>\n",
       "      <td>0.079720</td>\n",
       "      <td>0.038803</td>\n",
       "      <td>0.027414</td>\n",
       "      <td>...</td>\n",
       "      <td>4.833242</td>\n",
       "      <td>6.146258</td>\n",
       "      <td>33.602542</td>\n",
       "      <td>569.356993</td>\n",
       "      <td>0.022832</td>\n",
       "      <td>0.157336</td>\n",
       "      <td>0.208624</td>\n",
       "      <td>0.065732</td>\n",
       "      <td>0.061867</td>\n",
       "      <td>0.018061</td>\n",
       "    </tr>\n",
       "    <tr>\n",
       "      <th>min</th>\n",
       "      <td>0.000000</td>\n",
       "      <td>6.981000</td>\n",
       "      <td>9.710000</td>\n",
       "      <td>43.790000</td>\n",
       "      <td>143.500000</td>\n",
       "      <td>0.052630</td>\n",
       "      <td>0.019380</td>\n",
       "      <td>0.000000</td>\n",
       "      <td>0.000000</td>\n",
       "      <td>0.106000</td>\n",
       "      <td>...</td>\n",
       "      <td>7.930000</td>\n",
       "      <td>12.020000</td>\n",
       "      <td>50.410000</td>\n",
       "      <td>185.200000</td>\n",
       "      <td>0.071170</td>\n",
       "      <td>0.027290</td>\n",
       "      <td>0.000000</td>\n",
       "      <td>0.000000</td>\n",
       "      <td>0.156500</td>\n",
       "      <td>0.055040</td>\n",
       "    </tr>\n",
       "    <tr>\n",
       "      <th>25%</th>\n",
       "      <td>0.000000</td>\n",
       "      <td>11.700000</td>\n",
       "      <td>16.170000</td>\n",
       "      <td>75.170000</td>\n",
       "      <td>420.300000</td>\n",
       "      <td>0.086370</td>\n",
       "      <td>0.064920</td>\n",
       "      <td>0.029560</td>\n",
       "      <td>0.020310</td>\n",
       "      <td>0.161900</td>\n",
       "      <td>...</td>\n",
       "      <td>13.010000</td>\n",
       "      <td>21.080000</td>\n",
       "      <td>84.110000</td>\n",
       "      <td>515.300000</td>\n",
       "      <td>0.116600</td>\n",
       "      <td>0.147200</td>\n",
       "      <td>0.114500</td>\n",
       "      <td>0.064930</td>\n",
       "      <td>0.250400</td>\n",
       "      <td>0.071460</td>\n",
       "    </tr>\n",
       "    <tr>\n",
       "      <th>50%</th>\n",
       "      <td>0.000000</td>\n",
       "      <td>13.370000</td>\n",
       "      <td>18.840000</td>\n",
       "      <td>86.240000</td>\n",
       "      <td>551.100000</td>\n",
       "      <td>0.095870</td>\n",
       "      <td>0.092630</td>\n",
       "      <td>0.061540</td>\n",
       "      <td>0.033500</td>\n",
       "      <td>0.179200</td>\n",
       "      <td>...</td>\n",
       "      <td>14.970000</td>\n",
       "      <td>25.410000</td>\n",
       "      <td>97.660000</td>\n",
       "      <td>686.500000</td>\n",
       "      <td>0.131300</td>\n",
       "      <td>0.211900</td>\n",
       "      <td>0.226700</td>\n",
       "      <td>0.099930</td>\n",
       "      <td>0.282200</td>\n",
       "      <td>0.080040</td>\n",
       "    </tr>\n",
       "    <tr>\n",
       "      <th>75%</th>\n",
       "      <td>1.000000</td>\n",
       "      <td>15.780000</td>\n",
       "      <td>21.800000</td>\n",
       "      <td>104.100000</td>\n",
       "      <td>782.700000</td>\n",
       "      <td>0.105300</td>\n",
       "      <td>0.130400</td>\n",
       "      <td>0.130700</td>\n",
       "      <td>0.074000</td>\n",
       "      <td>0.195700</td>\n",
       "      <td>...</td>\n",
       "      <td>18.790000</td>\n",
       "      <td>29.720000</td>\n",
       "      <td>125.400000</td>\n",
       "      <td>1084.000000</td>\n",
       "      <td>0.146000</td>\n",
       "      <td>0.339100</td>\n",
       "      <td>0.382900</td>\n",
       "      <td>0.161400</td>\n",
       "      <td>0.317900</td>\n",
       "      <td>0.092080</td>\n",
       "    </tr>\n",
       "    <tr>\n",
       "      <th>max</th>\n",
       "      <td>1.000000</td>\n",
       "      <td>28.110000</td>\n",
       "      <td>39.280000</td>\n",
       "      <td>188.500000</td>\n",
       "      <td>2501.000000</td>\n",
       "      <td>0.163400</td>\n",
       "      <td>0.345400</td>\n",
       "      <td>0.426800</td>\n",
       "      <td>0.201200</td>\n",
       "      <td>0.304000</td>\n",
       "      <td>...</td>\n",
       "      <td>36.040000</td>\n",
       "      <td>49.540000</td>\n",
       "      <td>251.200000</td>\n",
       "      <td>4254.000000</td>\n",
       "      <td>0.222600</td>\n",
       "      <td>1.058000</td>\n",
       "      <td>1.252000</td>\n",
       "      <td>0.291000</td>\n",
       "      <td>0.663800</td>\n",
       "      <td>0.207500</td>\n",
       "    </tr>\n",
       "  </tbody>\n",
       "</table>\n",
       "<p>8 rows × 31 columns</p>\n",
       "</div>"
      ],
      "text/plain": [
       "        diagnosis  radius_mean  texture_mean  perimeter_mean    area_mean  \\\n",
       "count  569.000000   569.000000    569.000000      569.000000   569.000000   \n",
       "mean     0.372583    14.127292     19.289649       91.969033   654.889104   \n",
       "std      0.483918     3.524049      4.301036       24.298981   351.914129   \n",
       "min      0.000000     6.981000      9.710000       43.790000   143.500000   \n",
       "25%      0.000000    11.700000     16.170000       75.170000   420.300000   \n",
       "50%      0.000000    13.370000     18.840000       86.240000   551.100000   \n",
       "75%      1.000000    15.780000     21.800000      104.100000   782.700000   \n",
       "max      1.000000    28.110000     39.280000      188.500000  2501.000000   \n",
       "\n",
       "       smoothness_mean  compactness_mean  concavity_mean  concave points_mean  \\\n",
       "count       569.000000        569.000000      569.000000           569.000000   \n",
       "mean          0.096360          0.104341        0.088799             0.048919   \n",
       "std           0.014064          0.052813        0.079720             0.038803   \n",
       "min           0.052630          0.019380        0.000000             0.000000   \n",
       "25%           0.086370          0.064920        0.029560             0.020310   \n",
       "50%           0.095870          0.092630        0.061540             0.033500   \n",
       "75%           0.105300          0.130400        0.130700             0.074000   \n",
       "max           0.163400          0.345400        0.426800             0.201200   \n",
       "\n",
       "       symmetry_mean  ...  radius_worst  texture_worst  perimeter_worst  \\\n",
       "count     569.000000  ...    569.000000     569.000000       569.000000   \n",
       "mean        0.181162  ...     16.269190      25.677223       107.261213   \n",
       "std         0.027414  ...      4.833242       6.146258        33.602542   \n",
       "min         0.106000  ...      7.930000      12.020000        50.410000   \n",
       "25%         0.161900  ...     13.010000      21.080000        84.110000   \n",
       "50%         0.179200  ...     14.970000      25.410000        97.660000   \n",
       "75%         0.195700  ...     18.790000      29.720000       125.400000   \n",
       "max         0.304000  ...     36.040000      49.540000       251.200000   \n",
       "\n",
       "        area_worst  smoothness_worst  compactness_worst  concavity_worst  \\\n",
       "count   569.000000        569.000000         569.000000       569.000000   \n",
       "mean    880.583128          0.132369           0.254265         0.272188   \n",
       "std     569.356993          0.022832           0.157336         0.208624   \n",
       "min     185.200000          0.071170           0.027290         0.000000   \n",
       "25%     515.300000          0.116600           0.147200         0.114500   \n",
       "50%     686.500000          0.131300           0.211900         0.226700   \n",
       "75%    1084.000000          0.146000           0.339100         0.382900   \n",
       "max    4254.000000          0.222600           1.058000         1.252000   \n",
       "\n",
       "       concave points_worst  symmetry_worst  fractal_dimension_worst  \n",
       "count            569.000000      569.000000               569.000000  \n",
       "mean               0.114606        0.290076                 0.083946  \n",
       "std                0.065732        0.061867                 0.018061  \n",
       "min                0.000000        0.156500                 0.055040  \n",
       "25%                0.064930        0.250400                 0.071460  \n",
       "50%                0.099930        0.282200                 0.080040  \n",
       "75%                0.161400        0.317900                 0.092080  \n",
       "max                0.291000        0.663800                 0.207500  \n",
       "\n",
       "[8 rows x 31 columns]"
      ]
     },
     "execution_count": 6,
     "metadata": {},
     "output_type": "execute_result"
    }
   ],
   "source": [
    "df.describe()"
   ]
  },
  {
   "cell_type": "code",
   "execution_count": 7,
   "id": "f66797d4",
   "metadata": {
    "_cell_guid": "aa80be8a-4022-038b-d7b7-0789df4ef973",
    "execution": {
     "iopub.execute_input": "2021-11-25T08:05:52.349767Z",
     "iopub.status.busy": "2021-11-25T08:05:52.346996Z",
     "iopub.status.idle": "2021-11-25T08:05:52.752689Z",
     "shell.execute_reply": "2021-11-25T08:05:52.753574Z",
     "shell.execute_reply.started": "2021-11-25T07:49:14.814531Z"
    },
    "papermill": {
     "duration": 0.445746,
     "end_time": "2021-11-25T08:05:52.753778",
     "exception": false,
     "start_time": "2021-11-25T08:05:52.308032",
     "status": "completed"
    },
    "tags": []
   },
   "outputs": [
    {
     "data": {
      "image/png": "[encoded data removed]",
      "text/plain": [
       "<Figure size 432x288 with 1 Axes>"
      ]
     },
     "metadata": {
      "needs_background": "light"
     },
     "output_type": "display_data"
    }
   ],
   "source": [
    "df.describe()\n",
    "plt.hist(df['diagnosis'])\n",
    "plt.title('Diagnosis (M=1 , B=0)')\n",
    "plt.show()"
   ]
  },
  {
   "cell_type": "markdown",
   "id": "9e7552c8",
   "metadata": {
    "_cell_guid": "56b72979-5155-2a99-1b6e-a55cbf72d2a3",
    "papermill": {
     "duration": 0.028712,
     "end_time": "2021-11-25T08:05:52.812326",
     "exception": false,
     "start_time": "2021-11-25T08:05:52.783614",
     "status": "completed"
    },
    "tags": []
   },
   "source": [
    "### nucleus features vs diagnosis"
   ]
  },
  {
   "cell_type": "code",
   "execution_count": 8,
   "id": "3a3a8ed9",
   "metadata": {
    "_cell_guid": "bc36c937-c5d8-8635-480b-777a94571310",
    "execution": {
     "iopub.execute_input": "2021-11-25T08:05:52.879050Z",
     "iopub.status.busy": "2021-11-25T08:05:52.877892Z",
     "iopub.status.idle": "2021-11-25T08:05:52.883678Z",
     "shell.execute_reply": "2021-11-25T08:05:52.883106Z",
     "shell.execute_reply.started": "2021-11-25T07:49:15.275643Z"
    },
    "papermill": {
     "duration": 0.040922,
     "end_time": "2021-11-25T08:05:52.883830",
     "exception": false,
     "start_time": "2021-11-25T08:05:52.842908",
     "status": "completed"
    },
    "tags": []
   },
   "outputs": [],
   "source": [
    "features_mean=list(df.columns[1:11])\n",
    "# split dataframe into two based on diagnosis\n",
    "dfM=df[df['diagnosis'] ==1]\n",
    "dfB=df[df['diagnosis'] ==0]"
   ]
  },
  {
   "cell_type": "code",
   "execution_count": 9,
   "id": "07052e03",
   "metadata": {
    "_cell_guid": "3f3b5e1b-605d-51b4-28c7-c551b5d13a48",
    "execution": {
     "iopub.execute_input": "2021-11-25T08:05:52.946942Z",
     "iopub.status.busy": "2021-11-25T08:05:52.946173Z",
     "iopub.status.idle": "2021-11-25T08:05:56.833813Z",
     "shell.execute_reply": "2021-11-25T08:05:56.833155Z",
     "shell.execute_reply.started": "2021-11-25T07:49:15.283932Z"
    },
    "papermill": {
     "duration": 3.920665,
     "end_time": "2021-11-25T08:05:56.833955",
     "exception": false,
     "start_time": "2021-11-25T08:05:52.913290",
     "status": "completed"
    },
    "tags": []
   },
   "outputs": [
    {
     "data": {
      "image/png": "[encoded data removed]",
      "text/plain": [
       "<Figure size 576x720 with 10 Axes>"
      ]
     },
     "metadata": {
      "needs_background": "light"
     },
     "output_type": "display_data"
    }
   ],
   "source": [
    "\n",
    "plt.rcParams.update({'font.size': 8})\n",
    "fig, axes = plt.subplots(nrows=5, ncols=2, figsize=(8,10))\n",
    "axes = axes.ravel()\n",
    "for idx,ax in enumerate(axes):\n",
    "    ax.figure\n",
    "    binwidth= (max(df[features_mean[idx]]) - min(df[features_mean[idx]]))/50  \n",
    "    ax.hist([dfM[features_mean[idx]],dfB[features_mean[idx]]], alpha=0.5,stacked=True, label=['M','B'],color=['r','g'],bins=np.arange(min(df[features_mean[idx]]), max(df[features_mean[idx]]) + binwidth, binwidth) , density = True,)\n",
    "    ax.legend(loc='upper right')\n",
    "    ax.set_title(features_mean[idx])\n",
    "plt.tight_layout()\n",
    "plt.show()"
   ]
  },
  {
   "cell_type": "markdown",
   "id": "3be91c4b",
   "metadata": {
    "_cell_guid": "4b8d6133-427b-1ecf-0e24-9ec2afea0a0e",
    "papermill": {
     "duration": 0.030816,
     "end_time": "2021-11-25T08:05:56.895903",
     "exception": false,
     "start_time": "2021-11-25T08:05:56.865087",
     "status": "completed"
    },
    "tags": []
   },
   "source": [
    "### Observations\n",
    "\n",
    "1. mean values of cell radius, perimeter, area, compactness, concavity and concave points can be used in classification of the cancer. Larger values of these parameters tends to show a correlation with malignant tumors. \n",
    "2. mean values of texture, smoothness, symmetry or fractual dimension does not show a particular preference of one diagnosis over the other. In any of the histograms there are no noticeable large outliers that warrants further cleanup."
   ]
  },
  {
   "cell_type": "markdown",
   "id": "8a2af98c",
   "metadata": {
    "_cell_guid": "ac11039f-0418-3553-9412-ae3d50bef4e4",
    "papermill": {
     "duration": 0.030468,
     "end_time": "2021-11-25T08:05:56.957557",
     "exception": false,
     "start_time": "2021-11-25T08:05:56.927089",
     "status": "completed"
    },
    "tags": []
   },
   "source": [
    "## Creating a test set and a training set\n",
    "Since this data set is not ordered, I am going to do a simple 70:30 split to create a training data set and a test data set."
   ]
  },
  {
   "cell_type": "code",
   "execution_count": 10,
   "id": "be273552",
   "metadata": {
    "_cell_guid": "1390898b-a338-7395-635f-6e1c216861e6",
    "execution": {
     "iopub.execute_input": "2021-11-25T08:05:57.026221Z",
     "iopub.status.busy": "2021-11-25T08:05:57.025468Z",
     "iopub.status.idle": "2021-11-25T08:05:57.028513Z",
     "shell.execute_reply": "2021-11-25T08:05:57.027962Z",
     "shell.execute_reply.started": "2021-11-25T07:49:19.304589Z"
    },
    "papermill": {
     "duration": 0.040684,
     "end_time": "2021-11-25T08:05:57.028656",
     "exception": false,
     "start_time": "2021-11-25T08:05:56.987972",
     "status": "completed"
    },
    "tags": []
   },
   "outputs": [],
   "source": [
    "traindf, testdf = train_test_split(df, test_size = 0.3)"
   ]
  },
  {
   "cell_type": "markdown",
   "id": "a87c7dc7",
   "metadata": {
    "_cell_guid": "45dac047-52fb-b847-a521-fa6883ebd5f6",
    "papermill": {
     "duration": 0.029978,
     "end_time": "2021-11-25T08:05:57.089625",
     "exception": false,
     "start_time": "2021-11-25T08:05:57.059647",
     "status": "completed"
    },
    "tags": []
   },
   "source": [
    "## Model Building\n",
    "\n",
    "Here we are going to build a classification model and evaluate its performance using the training set.\n",
    "\n"
   ]
  },
  {
   "cell_type": "markdown",
   "id": "f7d02c25",
   "metadata": {
    "papermill": {
     "duration": 0.029945,
     "end_time": "2021-11-25T08:05:57.150680",
     "exception": false,
     "start_time": "2021-11-25T08:05:57.120735",
     "status": "completed"
    },
    "tags": []
   },
   "source": [
    "# Naive Bayes model"
   ]
  },
  {
   "cell_type": "code",
   "execution_count": 11,
   "id": "2ec725dc",
   "metadata": {
    "execution": {
     "iopub.execute_input": "2021-11-25T08:05:57.214759Z",
     "iopub.status.busy": "2021-11-25T08:05:57.214071Z",
     "iopub.status.idle": "2021-11-25T08:05:57.220925Z",
     "shell.execute_reply": "2021-11-25T08:05:57.221457Z",
     "shell.execute_reply.started": "2021-11-25T07:49:19.314453Z"
    },
    "papermill": {
     "duration": 0.04056,
     "end_time": "2021-11-25T08:05:57.221667",
     "exception": false,
     "start_time": "2021-11-25T08:05:57.181107",
     "status": "completed"
    },
    "tags": []
   },
   "outputs": [],
   "source": [
    "from sklearn.naive_bayes import GaussianNB\n",
    "model=GaussianNB()\n",
    "predictor_var = ['radius_mean','perimeter_mean','area_mean','compactness_mean','concave points_mean']\n",
    "outcome_var='diagnosis'"
   ]
  },
  {
   "cell_type": "code",
   "execution_count": 12,
   "id": "2f004cd1",
   "metadata": {
    "execution": {
     "iopub.execute_input": "2021-11-25T08:05:57.288868Z",
     "iopub.status.busy": "2021-11-25T08:05:57.288229Z",
     "iopub.status.idle": "2021-11-25T08:05:57.300609Z",
     "shell.execute_reply": "2021-11-25T08:05:57.301588Z",
     "shell.execute_reply.started": "2021-11-25T07:49:19.330033Z"
    },
    "papermill": {
     "duration": 0.048417,
     "end_time": "2021-11-25T08:05:57.301871",
     "exception": false,
     "start_time": "2021-11-25T08:05:57.253454",
     "status": "completed"
    },
    "tags": []
   },
   "outputs": [
    {
     "name": "stdout",
     "output_type": "stream",
     "text": [
      "Accuracy : 90.704%\n"
     ]
    }
   ],
   "source": [
    "\n",
    "model.fit(traindf[predictor_var],traindf[outcome_var])\n",
    "predictions = model.predict(traindf[predictor_var])\n",
    "accuracy = metrics.accuracy_score(predictions,traindf[outcome_var])\n",
    "print(\"Accuracy : %s\" % \"{0:.3%}\".format(accuracy))"
   ]
  },
  {
   "cell_type": "code",
   "execution_count": 13,
   "id": "19639376",
   "metadata": {
    "execution": {
     "iopub.execute_input": "2021-11-25T08:05:57.371093Z",
     "iopub.status.busy": "2021-11-25T08:05:57.370229Z",
     "iopub.status.idle": "2021-11-25T08:05:57.757474Z",
     "shell.execute_reply": "2021-11-25T08:05:57.756170Z",
     "shell.execute_reply.started": "2021-11-25T07:49:19.347310Z"
    },
    "papermill": {
     "duration": 0.422861,
     "end_time": "2021-11-25T08:05:57.757672",
     "exception": false,
     "start_time": "2021-11-25T08:05:57.334811",
     "status": "completed"
    },
    "tags": []
   },
   "outputs": [
    {
     "data": {
      "text/plain": [
       "<AxesSubplot:>"
      ]
     },
     "execution_count": 13,
     "metadata": {},
     "output_type": "execute_result"
    },
    {
     "data": {
      "image/png": "[encoded data removed]",
      "text/plain": [
       "<Figure size 432x288 with 2 Axes>"
      ]
     },
     "metadata": {
      "needs_background": "light"
     },
     "output_type": "display_data"
    }
   ],
   "source": [
    "import seaborn as sns\n",
    "sns.heatmap(metrics.confusion_matrix(predictions,traindf[outcome_var]),annot=True)"
   ]
  },
  {
   "cell_type": "code",
   "execution_count": 14,
   "id": "0a0f844b",
   "metadata": {
    "execution": {
     "iopub.execute_input": "2021-11-25T08:05:57.832559Z",
     "iopub.status.busy": "2021-11-25T08:05:57.831725Z",
     "iopub.status.idle": "2021-11-25T08:05:57.863876Z",
     "shell.execute_reply": "2021-11-25T08:05:57.863247Z",
     "shell.execute_reply.started": "2021-11-25T07:49:28.221603Z"
    },
    "papermill": {
     "duration": 0.073701,
     "end_time": "2021-11-25T08:05:57.864024",
     "exception": false,
     "start_time": "2021-11-25T08:05:57.790323",
     "status": "completed"
    },
    "tags": []
   },
   "outputs": [
    {
     "name": "stdout",
     "output_type": "stream",
     "text": [
      "90.94936708860759\n"
     ]
    }
   ],
   "source": [
    "from sklearn.model_selection import cross_val_score\n",
    "from statistics import mean\n",
    "print(mean(cross_val_score(model, traindf[predictor_var],traindf[outcome_var], cv=5))*100)"
   ]
  },
  {
   "cell_type": "markdown",
   "id": "0b5e1536",
   "metadata": {
    "papermill": {
     "duration": 0.032521,
     "end_time": "2021-11-25T08:05:57.928943",
     "exception": false,
     "start_time": "2021-11-25T08:05:57.896422",
     "status": "completed"
    },
    "tags": []
   },
   "source": [
    "# KNN Model"
   ]
  },
  {
   "cell_type": "code",
   "execution_count": 15,
   "id": "0e0e75c7",
   "metadata": {
    "execution": {
     "iopub.execute_input": "2021-11-25T08:05:57.999628Z",
     "iopub.status.busy": "2021-11-25T08:05:57.998927Z",
     "iopub.status.idle": "2021-11-25T08:05:58.147872Z",
     "shell.execute_reply": "2021-11-25T08:05:58.147217Z",
     "shell.execute_reply.started": "2021-11-25T07:52:30.319382Z"
    },
    "papermill": {
     "duration": 0.186638,
     "end_time": "2021-11-25T08:05:58.148025",
     "exception": false,
     "start_time": "2021-11-25T08:05:57.961387",
     "status": "completed"
    },
    "tags": []
   },
   "outputs": [],
   "source": [
    "from sklearn.neighbors import KNeighborsClassifier\n",
    "model=KNeighborsClassifier(n_neighbors=4)\n",
    "predictor_var = ['radius_mean','perimeter_mean','area_mean','compactness_mean','concave points_mean']\n",
    "outcome_var='diagnosis'"
   ]
  },
  {
   "cell_type": "code",
   "execution_count": 16,
   "id": "d5b17dcd",
   "metadata": {
    "execution": {
     "iopub.execute_input": "2021-11-25T08:05:58.227322Z",
     "iopub.status.busy": "2021-11-25T08:05:58.226641Z",
     "iopub.status.idle": "2021-11-25T08:05:58.247742Z",
     "shell.execute_reply": "2021-11-25T08:05:58.247095Z",
     "shell.execute_reply.started": "2021-11-25T07:52:33.583800Z"
    },
    "papermill": {
     "duration": 0.067455,
     "end_time": "2021-11-25T08:05:58.247898",
     "exception": false,
     "start_time": "2021-11-25T08:05:58.180443",
     "status": "completed"
    },
    "tags": []
   },
   "outputs": [
    {
     "name": "stdout",
     "output_type": "stream",
     "text": [
      "Accuracy : 89.698%\n"
     ]
    }
   ],
   "source": [
    "model.fit(traindf[predictor_var],traindf[outcome_var])\n",
    "predictions = model.predict(traindf[predictor_var])\n",
    "accuracy = metrics.accuracy_score(predictions,traindf[outcome_var])\n",
    "print(\"Accuracy : %s\" % \"{0:.3%}\".format(accuracy))"
   ]
  },
  {
   "cell_type": "code",
   "execution_count": 17,
   "id": "cf7243a1",
   "metadata": {
    "execution": {
     "iopub.execute_input": "2021-11-25T08:05:58.326477Z",
     "iopub.status.busy": "2021-11-25T08:05:58.323454Z",
     "iopub.status.idle": "2021-11-25T08:05:58.368930Z",
     "shell.execute_reply": "2021-11-25T08:05:58.368336Z",
     "shell.execute_reply.started": "2021-11-25T07:53:12.275997Z"
    },
    "papermill": {
     "duration": 0.086077,
     "end_time": "2021-11-25T08:05:58.369076",
     "exception": false,
     "start_time": "2021-11-25T08:05:58.282999",
     "status": "completed"
    },
    "tags": []
   },
   "outputs": [
    {
     "name": "stdout",
     "output_type": "stream",
     "text": [
      "85.92405063291139\n"
     ]
    }
   ],
   "source": [
    "from sklearn.model_selection import cross_val_score\n",
    "from statistics import mean\n",
    "print(mean(cross_val_score(model, traindf[predictor_var],traindf[outcome_var], cv=5))*100)"
   ]
  },
  {
   "cell_type": "code",
   "execution_count": 18,
   "id": "48e44ec6",
   "metadata": {
    "execution": {
     "iopub.execute_input": "2021-11-25T08:05:58.449546Z",
     "iopub.status.busy": "2021-11-25T08:05:58.448823Z",
     "iopub.status.idle": "2021-11-25T08:05:59.900865Z",
     "shell.execute_reply": "2021-11-25T08:05:59.901356Z",
     "shell.execute_reply.started": "2021-11-25T07:55:22.855345Z"
    },
    "papermill": {
     "duration": 1.498948,
     "end_time": "2021-11-25T08:05:59.901562",
     "exception": false,
     "start_time": "2021-11-25T08:05:58.402614",
     "status": "completed"
    },
    "tags": []
   },
   "outputs": [],
   "source": [
    "import numpy as np\n",
    "x_train=traindf[predictor_var]\n",
    "y_train=traindf[outcome_var]\n",
    "x_test=testdf[predictor_var]\n",
    "y_test=testdf[outcome_var]\n",
    "trainAccuracy=[]\n",
    "testAccuracy=[]\n",
    "errorRate=[]\n",
    "for k in range(1,40):\n",
    "    model=KNeighborsClassifier(n_neighbors=k)\n",
    "    model.fit(x_train,y_train)\n",
    "    pred_i = model.predict(x_test)\n",
    "    errorRate.append(np.mean(pred_i != y_test))\n",
    "\n",
    "    trainAccuracy.append(model.score(x_train,y_train))\n",
    "    testAccuracy.append(model.score(x_test,y_test))"
   ]
  },
  {
   "cell_type": "code",
   "execution_count": 19,
   "id": "9fa623cc",
   "metadata": {
    "execution": {
     "iopub.execute_input": "2021-11-25T08:05:59.976321Z",
     "iopub.status.busy": "2021-11-25T08:05:59.975264Z",
     "iopub.status.idle": "2021-11-25T08:06:00.226090Z",
     "shell.execute_reply": "2021-11-25T08:06:00.226636Z",
     "shell.execute_reply.started": "2021-11-25T07:55:53.943003Z"
    },
    "papermill": {
     "duration": 0.292232,
     "end_time": "2021-11-25T08:06:00.226818",
     "exception": false,
     "start_time": "2021-11-25T08:05:59.934586",
     "status": "completed"
    },
    "tags": []
   },
   "outputs": [
    {
     "name": "stdout",
     "output_type": "stream",
     "text": [
      "Minimum error:- 0.0935672514619883 at K = 7\n"
     ]
    },
    {
     "data": {
      "image/png": "[encoded data removed]",
      "text/plain": [
       "<Figure size 720x432 with 1 Axes>"
      ]
     },
     "metadata": {
      "needs_background": "light"
     },
     "output_type": "display_data"
    }
   ],
   "source": [
    "plt.figure(figsize=(10,6))\n",
    "plt.plot(range(1,40),errorRate,color='blue', linestyle='dashed', \n",
    "         marker='o',markerfacecolor='red', markersize=10)\n",
    "plt.title('Error Rate vs. K Value')\n",
    "plt.xlabel('K')\n",
    "plt.ylabel('Error Rate')\n",
    "print(\"Minimum error:-\",min(errorRate),\"at K =\",errorRate.index(min(errorRate))+1)"
   ]
  },
  {
   "cell_type": "code",
   "execution_count": 20,
   "id": "c0afecae",
   "metadata": {
    "execution": {
     "iopub.execute_input": "2021-11-25T08:06:00.298770Z",
     "iopub.status.busy": "2021-11-25T08:06:00.297990Z",
     "iopub.status.idle": "2021-11-25T08:06:00.562210Z",
     "shell.execute_reply": "2021-11-25T08:06:00.562718Z",
     "shell.execute_reply.started": "2021-11-25T07:56:27.599985Z"
    },
    "papermill": {
     "duration": 0.302149,
     "end_time": "2021-11-25T08:06:00.562904",
     "exception": false,
     "start_time": "2021-11-25T08:06:00.260755",
     "status": "completed"
    },
    "tags": []
   },
   "outputs": [
    {
     "data": {
      "image/png": "[encoded data removed]",
      "text/plain": [
       "<Figure size 864x432 with 1 Axes>"
      ]
     },
     "metadata": {
      "needs_background": "light"
     },
     "output_type": "display_data"
    }
   ],
   "source": [
    "from matplotlib import pyplot as plt,style\n",
    "plt.figure(figsize=(12,6))\n",
    "plt.plot(range(1,40),trainAccuracy,label=\"Train Score\",marker=\"o\",markerfacecolor=\"teal\",color=\"blue\",linestyle=\"dashed\")\n",
    "plt.plot(range(1,40),testAccuracy,label=\"Test Score\",marker=\"o\",markerfacecolor=\"red\",color=\"black\",linestyle=\"dashed\")\n",
    "plt.legend()\n",
    "plt.xlabel(\"Number of Neighbors\")\n",
    "plt.ylabel(\"Score\")\n",
    "plt.title(\"Nbd Vs Score\")\n",
    "plt.show()"
   ]
  },
  {
   "cell_type": "markdown",
   "id": "2aa5a290",
   "metadata": {
    "papermill": {
     "duration": 0.035819,
     "end_time": "2021-11-25T08:06:00.634531",
     "exception": false,
     "start_time": "2021-11-25T08:06:00.598712",
     "status": "completed"
    },
    "tags": []
   },
   "source": [
    "Testing with new K Value= 30\n"
   ]
  },
  {
   "cell_type": "code",
   "execution_count": 21,
   "id": "63d05c25",
   "metadata": {
    "execution": {
     "iopub.execute_input": "2021-11-25T08:06:00.708828Z",
     "iopub.status.busy": "2021-11-25T08:06:00.708131Z",
     "iopub.status.idle": "2021-11-25T08:06:00.712305Z",
     "shell.execute_reply": "2021-11-25T08:06:00.712791Z",
     "shell.execute_reply.started": "2021-11-25T08:05:09.688194Z"
    },
    "papermill": {
     "duration": 0.043365,
     "end_time": "2021-11-25T08:06:00.712988",
     "exception": false,
     "start_time": "2021-11-25T08:06:00.669623",
     "status": "completed"
    },
    "tags": []
   },
   "outputs": [],
   "source": [
    "from sklearn.neighbors import KNeighborsClassifier\n",
    "model=KNeighborsClassifier(n_neighbors=31)\n",
    "predictor_var = ['radius_mean','perimeter_mean','area_mean','compactness_mean','concave points_mean']\n",
    "outcome_var='diagnosis'"
   ]
  },
  {
   "cell_type": "code",
   "execution_count": 22,
   "id": "4530a3fe",
   "metadata": {
    "execution": {
     "iopub.execute_input": "2021-11-25T08:06:00.787766Z",
     "iopub.status.busy": "2021-11-25T08:06:00.787090Z",
     "iopub.status.idle": "2021-11-25T08:06:00.814549Z",
     "shell.execute_reply": "2021-11-25T08:06:00.815262Z",
     "shell.execute_reply.started": "2021-11-25T08:05:10.195831Z"
    },
    "papermill": {
     "duration": 0.066677,
     "end_time": "2021-11-25T08:06:00.815531",
     "exception": false,
     "start_time": "2021-11-25T08:06:00.748854",
     "status": "completed"
    },
    "tags": []
   },
   "outputs": [
    {
     "name": "stdout",
     "output_type": "stream",
     "text": [
      "Accuracy : 88.945%\n"
     ]
    }
   ],
   "source": [
    "model.fit(traindf[predictor_var],traindf[outcome_var])\n",
    "predictions = model.predict(traindf[predictor_var])\n",
    "accuracy = metrics.accuracy_score(predictions,traindf[outcome_var])\n",
    "print(\"Accuracy : %s\" % \"{0:.3%}\".format(accuracy))"
   ]
  },
  {
   "cell_type": "code",
   "execution_count": 23,
   "id": "e837f5a0",
   "metadata": {
    "execution": {
     "iopub.execute_input": "2021-11-25T08:06:00.915543Z",
     "iopub.status.busy": "2021-11-25T08:06:00.914428Z",
     "iopub.status.idle": "2021-11-25T08:06:00.971113Z",
     "shell.execute_reply": "2021-11-25T08:06:00.972049Z",
     "shell.execute_reply.started": "2021-11-25T08:05:10.708095Z"
    },
    "papermill": {
     "duration": 0.110472,
     "end_time": "2021-11-25T08:06:00.972381",
     "exception": false,
     "start_time": "2021-11-25T08:06:00.861909",
     "status": "completed"
    },
    "tags": []
   },
   "outputs": [
    {
     "name": "stdout",
     "output_type": "stream",
     "text": [
      "88.43987341772151\n"
     ]
    }
   ],
   "source": [
    "from sklearn.model_selection import cross_val_score\n",
    "from statistics import mean\n",
    "print(mean(cross_val_score(model, traindf[predictor_var],traindf[outcome_var], cv=5))*100)"
   ]
  },
  {
   "cell_type": "markdown",
   "id": "d9744c2b",
   "metadata": {
    "papermill": {
     "duration": 0.036383,
     "end_time": "2021-11-25T08:06:01.046268",
     "exception": false,
     "start_time": "2021-11-25T08:06:01.009885",
     "status": "completed"
    },
    "tags": []
   },
   "source": [
    "We can see after using K values of 31 our cross-validation and accuracy scores are very close to each other compared to our initial assumption of 4 where cross validation scores were lower and accuracy scores were lot higher on train dataset"
   ]
  },
  {
   "cell_type": "code",
   "execution_count": null,
   "id": "ae02d731",
   "metadata": {
    "papermill": {
     "duration": 0.036314,
     "end_time": "2021-11-25T08:06:01.119614",
     "exception": false,
     "start_time": "2021-11-25T08:06:01.083300",
     "status": "completed"
    },
    "tags": []
   },
   "outputs": [],
   "source": []
  }
 ],
 "metadata": {
  "kernelspec": {
   "display_name": "Python 3",
   "language": "python",
   "name": "python3"
  },
  "language_info": {
   "codemirror_mode": {
    "name": "ipython",
    "version": 3
   },
   "file_extension": ".py",
   "mimetype": "text/x-python",
   "name": "python",
   "nbconvert_exporter": "python",
   "pygments_lexer": "ipython3",
   "version": "3.7.10"
  },
  "papermill": {
   "default_parameters": {},
   "duration": 21.19755,
   "end_time": "2021-11-25T08:06:01.966393",
   "environment_variables": {},
   "exception": null,
   "input_path": "__notebook__.ipynb",
   "output_path": "__notebook__.ipynb",
   "parameters": {},
   "start_time": "2021-11-25T08:05:40.768843",
   "version": "2.3.3"
  }
 },
 "nbformat": 4,
 "nbformat_minor": 5
}
